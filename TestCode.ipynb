{
  "nbformat": 4,
  "nbformat_minor": 0,
  "metadata": {
    "colab": {
      "provenance": []
    },
    "kernelspec": {
      "name": "python3",
      "display_name": "Python 3"
    },
    "language_info": {
      "name": "python"
    }
  },
  "cells": [
    {
      "cell_type": "code",
      "source": [
        "import csv\n",
        "import nltk\n",
        "from newspaper import Article\n",
        "from textblob import TextBlob\n",
        "\n",
        "def calculate_metrics(article_url):\n",
        "    # Download NLTK resources\n",
        "    nltk.download('punkt')\n",
        "    nltk.download('averaged_perceptron_tagger')\n",
        "    nltk.download('cmudict')\n",
        "\n",
        "    # Load CMU Pronunciation Dictionary for syllable count\n",
        "    cmudict_dict = nltk.corpus.cmudict.dict()\n",
        "\n",
        "    # Initialize counters and variables\n",
        "    word_count = 0\n",
        "    sentence_count = 0\n",
        "    syllable_count = 0\n",
        "    complex_word_count = 0\n",
        "    personal_pronoun_count = 0\n",
        "\n",
        "    # Download and parse the article\n",
        "    article = Article(article_url)\n",
        "    article.download()\n",
        "    article.parse()\n",
        "\n",
        "    # Get the article text\n",
        "    text = article.text\n",
        "\n",
        "    # Tokenize the text into sentences\n",
        "    sentences = nltk.sent_tokenize(text)\n",
        "    sentence_count = len(sentences)\n",
        "\n",
        "    for sentence in sentences:\n",
        "        # Tokenize each sentence into words\n",
        "        words = nltk.word_tokenize(sentence)\n",
        "        word_count += len(words)\n",
        "\n",
        "        for word in words:\n",
        "            # Calculate syllable count for each word\n",
        "            syllables = syllable_count_word(word, cmudict_dict)\n",
        "            syllable_count += syllables\n",
        "\n",
        "            # Check for complex words\n",
        "            if syllables >= 3:\n",
        "                complex_word_count += 1\n",
        "\n",
        "            # Check for personal pronouns\n",
        "            if is_personal_pronoun(word):\n",
        "                personal_pronoun_count += 1\n",
        "\n",
        "    # Calculate average sentence length\n",
        "    avg_sentence_length = word_count / sentence_count\n",
        "\n",
        "    # Calculate percentage of complex words\n",
        "    percentage_complex_words = (complex_word_count / word_count) * 100\n",
        "\n",
        "    # Calculate FOG index\n",
        "    fog_index = 0.4 * (avg_sentence_length + percentage_complex_words)\n",
        "\n",
        "    # Calculate average number of words per sentence\n",
        "    avg_words_per_sentence = word_count / sentence_count\n",
        "\n",
        "    # Calculate positive and negative scores using TextBlob\n",
        "    blob = TextBlob(text)\n",
        "    polarity_score = blob.sentiment.polarity\n",
        "    subjectivity_score = blob.sentiment.subjectivity\n",
        "\n",
        "    # Calculate average word length\n",
        "    avg_word_length = sum(len(word) for word in text.split()) / word_count\n",
        "\n",
        "    # Calculate syllables per word\n",
        "    syllable_per_word = syllable_count / word_count\n",
        "\n",
        "    return {\n",
        "        \"POSITIVE SCORE\": polarity_score,\n",
        "        \"NEGATIVE SCORE\": -polarity_score,\n",
        "        \"POLARITY SCORE\": polarity_score,\n",
        "        \"SUBJECTIVITY SCORE\": subjectivity_score,\n",
        "        \"AVG SENTENCE LENGTH\": avg_sentence_length,\n",
        "        \"PERCENTAGE OF COMPLEX WORDS\": percentage_complex_words,\n",
        "        \"FOG INDEX\": fog_index,\n",
        "        \"AVG NUMBER OF WORDS PER SENTENCE\": avg_words_per_sentence,\n",
        "        \"COMPLEX WORD COUNT\": complex_word_count,\n",
        "        \"WORD COUNT\": word_count,\n",
        "        \"SYLLABLE PER WORD\": syllable_per_word,\n",
        "        \"PERSONAL PRONOUNS\": personal_pronoun_count,\n",
        "        \"AVG WORD LENGTH\": avg_word_length\n",
        "    }\n",
        "\n",
        "def syllable_count_word(word, cmudict_dict):\n",
        "    # Calculate syllable count for a given word using the CMU Pronunciation Dictionary\n",
        "    word = word.lower()\n",
        "    if word in cmudict_dict:\n",
        "        return max([len(list(y for y in x if y[-1].isdigit())) for x in cmudict_dict[word]])\n",
        "    else:\n",
        "        # Estimate syllable count\n",
        "        return max(1, len(word) // 2)\n",
        "\n",
        "def is_personal_pronoun(word):\n",
        "        # Check if a given word is a personal pronoun\n",
        "    personal_pronouns = ['i', 'me', 'my', 'mine', 'you', 'your', 'yours',\n",
        "                         'he', 'him', 'his', 'she', 'her', 'hers',\n",
        "                         'we', 'us', 'our', 'ours', 'they', 'them', 'their', 'theirs']\n",
        "    return word.lower() in personal_pronouns\n",
        "\n",
        "# Read URLs from CSV file\n",
        "def read_urls_from_csv(file_path):\n",
        "    urls = []\n",
        "    with open(file_path, 'r') as csv_file:\n",
        "        reader = csv.reader(csv_file)\n",
        "        next(reader)  # Skip header row\n",
        "        for row in reader:\n",
        "            url = row[0]\n",
        "            urls.append(url)\n",
        "    return urls\n",
        "\n",
        "# Process URLs and calculate metrics\n",
        "def process_urls(file_path):\n",
        "    # Download NLTK resources\n",
        "    nltk.download('punkt')\n",
        "    nltk.download('averaged_perceptron_tagger')\n",
        "    nltk.download('cmudict')\n",
        "\n",
        "    # Read URLs from CSV file\n",
        "    urls = read_urls_from_csv(file_path)\n",
        "\n",
        "    # Iterate through each URL\n",
        "    for url in urls:\n",
        "        try:\n",
        "            # Calculate metrics for each URL\n",
        "            metrics = calculate_metrics(url)\n",
        "\n",
        "            # Print the calculated metrics\n",
        "            print(f\"Metrics for URL: {url}\")\n",
        "            for metric, value in metrics.items():\n",
        "                print(f\"{metric}: {value}\")\n",
        "            print(\"-----------------------\")\n",
        "        except Exception as e:\n",
        "            print(f\"Error processing URL: {url}\")\n",
        "            print(e)\n",
        "            print(\"-----------------------\")\n",
        "\n",
        "# Specify the path to the CSV file containing the URLs\n",
        "csv_file_path = \"/content/Input.csv\"\n",
        "\n",
        "# Process the URLs and calculate metrics\n",
        "process_urls(csv_file_path)\n",
        "\n"
      ],
      "metadata": {
        "colab": {
          "base_uri": "https://localhost:8080/"
        },
        "id": "wfQj_tf0ncQn",
        "outputId": "5dcb367f-3eec-4a90-f5ac-5e8a1615e71b"
      },
      "execution_count": 11,
      "outputs": [
        {
          "output_type": "stream",
          "name": "stderr",
          "text": [
            "[nltk_data] Downloading package punkt to /root/nltk_data...\n",
            "[nltk_data]   Package punkt is already up-to-date!\n",
            "[nltk_data] Downloading package averaged_perceptron_tagger to\n",
            "[nltk_data]     /root/nltk_data...\n",
            "[nltk_data]   Package averaged_perceptron_tagger is already up-to-\n",
            "[nltk_data]       date!\n",
            "[nltk_data] Downloading package cmudict to /root/nltk_data...\n",
            "[nltk_data]   Package cmudict is already up-to-date!\n",
            "[nltk_data] Downloading package punkt to /root/nltk_data...\n",
            "[nltk_data]   Package punkt is already up-to-date!\n",
            "[nltk_data] Downloading package averaged_perceptron_tagger to\n",
            "[nltk_data]     /root/nltk_data...\n",
            "[nltk_data]   Package averaged_perceptron_tagger is already up-to-\n",
            "[nltk_data]       date!\n",
            "[nltk_data] Downloading package cmudict to /root/nltk_data...\n",
            "[nltk_data]   Package cmudict is already up-to-date!\n"
          ]
        },
        {
          "output_type": "stream",
          "name": "stdout",
          "text": [
            "Metrics for URL: https://insights.blackcoffer.com/ai-in-healthcare-to-improve-patient-outcomes/\n",
            "POSITIVE SCORE: 0.13693643937761585\n",
            "NEGATIVE SCORE: -0.13693643937761585\n",
            "POLARITY SCORE: 0.13693643937761585\n",
            "SUBJECTIVITY SCORE: 0.46336424033482865\n",
            "AVG SENTENCE LENGTH: 26.12987012987013\n",
            "PERCENTAGE OF COMPLEX WORDS: 22.86282306163022\n",
            "FOG INDEX: 19.597077276600142\n",
            "AVG NUMBER OF WORDS PER SENTENCE: 26.12987012987013\n",
            "COMPLEX WORD COUNT: 460\n",
            "WORD COUNT: 2012\n",
            "SYLLABLE PER WORD: 1.8608349900596421\n",
            "PERSONAL PRONOUNS: 12\n",
            "AVG WORD LENGTH: 5.1600397614314115\n",
            "-----------------------\n"
          ]
        },
        {
          "output_type": "stream",
          "name": "stderr",
          "text": [
            "[nltk_data] Downloading package punkt to /root/nltk_data...\n",
            "[nltk_data]   Package punkt is already up-to-date!\n",
            "[nltk_data] Downloading package averaged_perceptron_tagger to\n",
            "[nltk_data]     /root/nltk_data...\n",
            "[nltk_data]   Package averaged_perceptron_tagger is already up-to-\n",
            "[nltk_data]       date!\n",
            "[nltk_data] Downloading package cmudict to /root/nltk_data...\n",
            "[nltk_data]   Package cmudict is already up-to-date!\n"
          ]
        },
        {
          "output_type": "stream",
          "name": "stdout",
          "text": [
            "Metrics for URL: https://insights.blackcoffer.com/what-if-the-creation-is-taking-over-the-creator/\n",
            "POSITIVE SCORE: 0.07469251007613077\n",
            "NEGATIVE SCORE: -0.07469251007613077\n",
            "POLARITY SCORE: 0.07469251007613077\n",
            "SUBJECTIVITY SCORE: 0.43359613375130607\n",
            "AVG SENTENCE LENGTH: 20.525\n",
            "PERCENTAGE OF COMPLEX WORDS: 13.824604141291108\n",
            "FOG INDEX: 13.739841656516445\n",
            "AVG NUMBER OF WORDS PER SENTENCE: 20.525\n",
            "COMPLEX WORD COUNT: 227\n",
            "WORD COUNT: 1642\n",
            "SYLLABLE PER WORD: 1.56394640682095\n",
            "PERSONAL PRONOUNS: 27\n",
            "AVG WORD LENGTH: 4.302679658952497\n",
            "-----------------------\n"
          ]
        },
        {
          "output_type": "stream",
          "name": "stderr",
          "text": [
            "[nltk_data] Downloading package punkt to /root/nltk_data...\n",
            "[nltk_data]   Package punkt is already up-to-date!\n",
            "[nltk_data] Downloading package averaged_perceptron_tagger to\n",
            "[nltk_data]     /root/nltk_data...\n",
            "[nltk_data]   Package averaged_perceptron_tagger is already up-to-\n",
            "[nltk_data]       date!\n",
            "[nltk_data] Downloading package cmudict to /root/nltk_data...\n",
            "[nltk_data]   Package cmudict is already up-to-date!\n"
          ]
        },
        {
          "output_type": "stream",
          "name": "stdout",
          "text": [
            "Metrics for URL: https://insights.blackcoffer.com/what-jobs-will-robots-take-from-humans-in-the-future/\n",
            "POSITIVE SCORE: 0.11146971179505427\n",
            "NEGATIVE SCORE: -0.11146971179505427\n",
            "POLARITY SCORE: 0.11146971179505427\n",
            "SUBJECTIVITY SCORE: 0.4832005722587915\n",
            "AVG SENTENCE LENGTH: 22.55294117647059\n",
            "PERCENTAGE OF COMPLEX WORDS: 20.39645279081899\n",
            "FOG INDEX: 17.179757586915834\n",
            "AVG NUMBER OF WORDS PER SENTENCE: 22.55294117647059\n",
            "COMPLEX WORD COUNT: 391\n",
            "WORD COUNT: 1917\n",
            "SYLLABLE PER WORD: 1.7584767866458006\n",
            "PERSONAL PRONOUNS: 17\n",
            "AVG WORD LENGTH: 4.912363067292644\n",
            "-----------------------\n"
          ]
        },
        {
          "output_type": "stream",
          "name": "stderr",
          "text": [
            "[nltk_data] Downloading package punkt to /root/nltk_data...\n",
            "[nltk_data]   Package punkt is already up-to-date!\n",
            "[nltk_data] Downloading package averaged_perceptron_tagger to\n",
            "[nltk_data]     /root/nltk_data...\n",
            "[nltk_data]   Package averaged_perceptron_tagger is already up-to-\n",
            "[nltk_data]       date!\n",
            "[nltk_data] Downloading package cmudict to /root/nltk_data...\n",
            "[nltk_data]   Package cmudict is already up-to-date!\n"
          ]
        },
        {
          "output_type": "stream",
          "name": "stdout",
          "text": [
            "Metrics for URL: https://insights.blackcoffer.com/will-machine-replace-the-human-in-the-future-of-work/\n",
            "POSITIVE SCORE: 0.14205028276997975\n",
            "NEGATIVE SCORE: -0.14205028276997975\n",
            "POLARITY SCORE: 0.14205028276997975\n",
            "SUBJECTIVITY SCORE: 0.487386691591237\n",
            "AVG SENTENCE LENGTH: 19.28421052631579\n",
            "PERCENTAGE OF COMPLEX WORDS: 14.956331877729257\n",
            "FOG INDEX: 13.696216961618019\n",
            "AVG NUMBER OF WORDS PER SENTENCE: 19.28421052631579\n",
            "COMPLEX WORD COUNT: 274\n",
            "WORD COUNT: 1832\n",
            "SYLLABLE PER WORD: 1.6102620087336244\n",
            "PERSONAL PRONOUNS: 35\n",
            "AVG WORD LENGTH: 4.4284934497816595\n",
            "-----------------------\n"
          ]
        },
        {
          "output_type": "stream",
          "name": "stderr",
          "text": [
            "[nltk_data] Downloading package punkt to /root/nltk_data...\n",
            "[nltk_data]   Package punkt is already up-to-date!\n",
            "[nltk_data] Downloading package averaged_perceptron_tagger to\n",
            "[nltk_data]     /root/nltk_data...\n",
            "[nltk_data]   Package averaged_perceptron_tagger is already up-to-\n",
            "[nltk_data]       date!\n",
            "[nltk_data] Downloading package cmudict to /root/nltk_data...\n",
            "[nltk_data]   Package cmudict is already up-to-date!\n"
          ]
        },
        {
          "output_type": "stream",
          "name": "stdout",
          "text": [
            "Metrics for URL: https://insights.blackcoffer.com/will-ai-replace-us-or-work-with-us/\n",
            "POSITIVE SCORE: 0.05169739373686746\n",
            "NEGATIVE SCORE: -0.05169739373686746\n",
            "POLARITY SCORE: 0.05169739373686746\n",
            "SUBJECTIVITY SCORE: 0.5085004615267774\n",
            "AVG SENTENCE LENGTH: 25.075949367088608\n",
            "PERCENTAGE OF COMPLEX WORDS: 18.07168096920747\n",
            "FOG INDEX: 17.25905213451843\n",
            "AVG NUMBER OF WORDS PER SENTENCE: 25.075949367088608\n",
            "COMPLEX WORD COUNT: 358\n",
            "WORD COUNT: 1981\n",
            "SYLLABLE PER WORD: 1.673902069661787\n",
            "PERSONAL PRONOUNS: 43\n",
            "AVG WORD LENGTH: 4.608278647147905\n",
            "-----------------------\n"
          ]
        },
        {
          "output_type": "stream",
          "name": "stderr",
          "text": [
            "[nltk_data] Downloading package punkt to /root/nltk_data...\n",
            "[nltk_data]   Package punkt is already up-to-date!\n",
            "[nltk_data] Downloading package averaged_perceptron_tagger to\n",
            "[nltk_data]     /root/nltk_data...\n",
            "[nltk_data]   Package averaged_perceptron_tagger is already up-to-\n",
            "[nltk_data]       date!\n",
            "[nltk_data] Downloading package cmudict to /root/nltk_data...\n",
            "[nltk_data]   Package cmudict is already up-to-date!\n"
          ]
        },
        {
          "output_type": "stream",
          "name": "stdout",
          "text": [
            "Metrics for URL: https://insights.blackcoffer.com/man-and-machines-together-machines-are-more-diligent-than-humans-blackcoffe/\n",
            "POSITIVE SCORE: 0.12108208858208855\n",
            "NEGATIVE SCORE: -0.12108208858208855\n",
            "POLARITY SCORE: 0.12108208858208855\n",
            "SUBJECTIVITY SCORE: 0.4533339508339509\n",
            "AVG SENTENCE LENGTH: 23.34375\n",
            "PERCENTAGE OF COMPLEX WORDS: 15.729585006693442\n",
            "FOG INDEX: 15.629334002677377\n",
            "AVG NUMBER OF WORDS PER SENTENCE: 23.34375\n",
            "COMPLEX WORD COUNT: 235\n",
            "WORD COUNT: 1494\n",
            "SYLLABLE PER WORD: 1.6218206157965194\n",
            "PERSONAL PRONOUNS: 60\n",
            "AVG WORD LENGTH: 4.48995983935743\n",
            "-----------------------\n"
          ]
        },
        {
          "output_type": "stream",
          "name": "stderr",
          "text": [
            "[nltk_data] Downloading package punkt to /root/nltk_data...\n",
            "[nltk_data]   Package punkt is already up-to-date!\n",
            "[nltk_data] Downloading package averaged_perceptron_tagger to\n",
            "[nltk_data]     /root/nltk_data...\n",
            "[nltk_data]   Package averaged_perceptron_tagger is already up-to-\n",
            "[nltk_data]       date!\n",
            "[nltk_data] Downloading package cmudict to /root/nltk_data...\n",
            "[nltk_data]   Package cmudict is already up-to-date!\n"
          ]
        },
        {
          "output_type": "stream",
          "name": "stdout",
          "text": [
            "Metrics for URL: https://insights.blackcoffer.com/in-future-or-in-upcoming-years-humans-and-machines-are-going-to-work-together-in-every-field-of-work/\n",
            "POSITIVE SCORE: 0.14694743662134965\n",
            "NEGATIVE SCORE: -0.14694743662134965\n",
            "POLARITY SCORE: 0.14694743662134965\n",
            "SUBJECTIVITY SCORE: 0.41690760929891363\n",
            "AVG SENTENCE LENGTH: 18.68888888888889\n",
            "PERCENTAGE OF COMPLEX WORDS: 16.171224732461358\n",
            "FOG INDEX: 13.944045448540102\n",
            "AVG NUMBER OF WORDS PER SENTENCE: 18.68888888888889\n",
            "COMPLEX WORD COUNT: 136\n",
            "WORD COUNT: 841\n",
            "SYLLABLE PER WORD: 1.6349583828775267\n",
            "PERSONAL PRONOUNS: 20\n",
            "AVG WORD LENGTH: 4.564803804994055\n",
            "-----------------------\n"
          ]
        },
        {
          "output_type": "stream",
          "name": "stderr",
          "text": [
            "[nltk_data] Downloading package punkt to /root/nltk_data...\n",
            "[nltk_data]   Package punkt is already up-to-date!\n",
            "[nltk_data] Downloading package averaged_perceptron_tagger to\n",
            "[nltk_data]     /root/nltk_data...\n",
            "[nltk_data]   Package averaged_perceptron_tagger is already up-to-\n",
            "[nltk_data]       date!\n",
            "[nltk_data] Downloading package cmudict to /root/nltk_data...\n",
            "[nltk_data]   Package cmudict is already up-to-date!\n"
          ]
        },
        {
          "output_type": "stream",
          "name": "stdout",
          "text": [
            "Error processing URL: https://insights.blackcoffer.com/how-neural-networks-can-be-applied-in-various-areas-in-the-future/\n",
            "Article `download()` failed with 404 Client Error: Not Found for url: https://insights.blackcoffer.com/how-neural-networks-can-be-applied-in-various-areas-in-the-future/ on URL https://insights.blackcoffer.com/how-neural-networks-can-be-applied-in-various-areas-in-the-future/\n",
            "-----------------------\n"
          ]
        },
        {
          "output_type": "stream",
          "name": "stderr",
          "text": [
            "[nltk_data] Downloading package punkt to /root/nltk_data...\n",
            "[nltk_data]   Package punkt is already up-to-date!\n",
            "[nltk_data] Downloading package averaged_perceptron_tagger to\n",
            "[nltk_data]     /root/nltk_data...\n",
            "[nltk_data]   Package averaged_perceptron_tagger is already up-to-\n",
            "[nltk_data]       date!\n",
            "[nltk_data] Downloading package cmudict to /root/nltk_data...\n",
            "[nltk_data]   Package cmudict is already up-to-date!\n"
          ]
        },
        {
          "output_type": "stream",
          "name": "stdout",
          "text": [
            "Metrics for URL: https://insights.blackcoffer.com/how-machine-learning-will-affect-your-business/\n",
            "POSITIVE SCORE: 0.19017686550737403\n",
            "NEGATIVE SCORE: -0.19017686550737403\n",
            "POLARITY SCORE: 0.19017686550737403\n",
            "SUBJECTIVITY SCORE: 0.5664366057671143\n",
            "AVG SENTENCE LENGTH: 22.805555555555557\n",
            "PERCENTAGE OF COMPLEX WORDS: 12.78928136419001\n",
            "FOG INDEX: 14.237934767898228\n",
            "AVG NUMBER OF WORDS PER SENTENCE: 22.805555555555557\n",
            "COMPLEX WORD COUNT: 105\n",
            "WORD COUNT: 821\n",
            "SYLLABLE PER WORD: 1.5371498172959805\n",
            "PERSONAL PRONOUNS: 31\n",
            "AVG WORD LENGTH: 4.381242387332521\n",
            "-----------------------\n"
          ]
        },
        {
          "output_type": "stream",
          "name": "stderr",
          "text": [
            "[nltk_data] Downloading package punkt to /root/nltk_data...\n",
            "[nltk_data]   Package punkt is already up-to-date!\n",
            "[nltk_data] Downloading package averaged_perceptron_tagger to\n",
            "[nltk_data]     /root/nltk_data...\n",
            "[nltk_data]   Package averaged_perceptron_tagger is already up-to-\n",
            "[nltk_data]       date!\n",
            "[nltk_data] Downloading package cmudict to /root/nltk_data...\n",
            "[nltk_data]   Package cmudict is already up-to-date!\n"
          ]
        },
        {
          "output_type": "stream",
          "name": "stdout",
          "text": [
            "Metrics for URL: https://insights.blackcoffer.com/deep-learning-impact-on-areas-of-e-learning/\n",
            "POSITIVE SCORE: 0.1685887445887446\n",
            "NEGATIVE SCORE: -0.1685887445887446\n",
            "POLARITY SCORE: 0.1685887445887446\n",
            "SUBJECTIVITY SCORE: 0.5311564854898188\n",
            "AVG SENTENCE LENGTH: 29.82716049382716\n",
            "PERCENTAGE OF COMPLEX WORDS: 18.460264900662253\n",
            "FOG INDEX: 19.31497015779577\n",
            "AVG NUMBER OF WORDS PER SENTENCE: 29.82716049382716\n",
            "COMPLEX WORD COUNT: 446\n",
            "WORD COUNT: 2416\n",
            "SYLLABLE PER WORD: 1.685430463576159\n",
            "PERSONAL PRONOUNS: 59\n",
            "AVG WORD LENGTH: 4.508278145695364\n",
            "-----------------------\n"
          ]
        },
        {
          "output_type": "stream",
          "name": "stderr",
          "text": [
            "[nltk_data] Downloading package punkt to /root/nltk_data...\n",
            "[nltk_data]   Package punkt is already up-to-date!\n",
            "[nltk_data] Downloading package averaged_perceptron_tagger to\n",
            "[nltk_data]     /root/nltk_data...\n",
            "[nltk_data]   Package averaged_perceptron_tagger is already up-to-\n",
            "[nltk_data]       date!\n",
            "[nltk_data] Downloading package cmudict to /root/nltk_data...\n",
            "[nltk_data]   Package cmudict is already up-to-date!\n"
          ]
        },
        {
          "output_type": "stream",
          "name": "stdout",
          "text": [
            "Metrics for URL: https://insights.blackcoffer.com/how-to-protect-future-data-and-its-privacy-blackcoffer/\n",
            "POSITIVE SCORE: 0.11627650481153669\n",
            "NEGATIVE SCORE: -0.11627650481153669\n",
            "POLARITY SCORE: 0.11627650481153669\n",
            "SUBJECTIVITY SCORE: 0.4650923740095715\n",
            "AVG SENTENCE LENGTH: 23.048076923076923\n",
            "PERCENTAGE OF COMPLEX WORDS: 17.521902377972467\n",
            "FOG INDEX: 16.227991720419755\n",
            "AVG NUMBER OF WORDS PER SENTENCE: 23.048076923076923\n",
            "COMPLEX WORD COUNT: 420\n",
            "WORD COUNT: 2397\n",
            "SYLLABLE PER WORD: 1.641218189403421\n",
            "PERSONAL PRONOUNS: 125\n",
            "AVG WORD LENGTH: 4.408427200667501\n",
            "-----------------------\n"
          ]
        },
        {
          "output_type": "stream",
          "name": "stderr",
          "text": [
            "[nltk_data] Downloading package punkt to /root/nltk_data...\n",
            "[nltk_data]   Package punkt is already up-to-date!\n",
            "[nltk_data] Downloading package averaged_perceptron_tagger to\n",
            "[nltk_data]     /root/nltk_data...\n",
            "[nltk_data]   Package averaged_perceptron_tagger is already up-to-\n",
            "[nltk_data]       date!\n",
            "[nltk_data] Downloading package cmudict to /root/nltk_data...\n",
            "[nltk_data]   Package cmudict is already up-to-date!\n"
          ]
        },
        {
          "output_type": "stream",
          "name": "stdout",
          "text": [
            "Metrics for URL: https://insights.blackcoffer.com/how-machines-ai-automations-and-robo-human-are-effective-in-finance-and-banking/\n",
            "POSITIVE SCORE: 0.11639375561545375\n",
            "NEGATIVE SCORE: -0.11639375561545375\n",
            "POLARITY SCORE: 0.11639375561545375\n",
            "SUBJECTIVITY SCORE: 0.41973403169157875\n",
            "AVG SENTENCE LENGTH: 22.689655172413794\n",
            "PERCENTAGE OF COMPLEX WORDS: 22.112462006079028\n",
            "FOG INDEX: 17.920846871397128\n",
            "AVG NUMBER OF WORDS PER SENTENCE: 22.689655172413794\n",
            "COMPLEX WORD COUNT: 291\n",
            "WORD COUNT: 1316\n",
            "SYLLABLE PER WORD: 1.7895136778115501\n",
            "PERSONAL PRONOUNS: 26\n",
            "AVG WORD LENGTH: 5.078267477203648\n",
            "-----------------------\n"
          ]
        },
        {
          "output_type": "stream",
          "name": "stderr",
          "text": [
            "[nltk_data] Downloading package punkt to /root/nltk_data...\n",
            "[nltk_data]   Package punkt is already up-to-date!\n",
            "[nltk_data] Downloading package averaged_perceptron_tagger to\n",
            "[nltk_data]     /root/nltk_data...\n",
            "[nltk_data]   Package averaged_perceptron_tagger is already up-to-\n",
            "[nltk_data]       date!\n",
            "[nltk_data] Downloading package cmudict to /root/nltk_data...\n",
            "[nltk_data]   Package cmudict is already up-to-date!\n"
          ]
        },
        {
          "output_type": "stream",
          "name": "stdout",
          "text": [
            "Metrics for URL: https://insights.blackcoffer.com/ai-human-robotics-machine-future-planet-blackcoffer-thinking-jobs-workplace/\n",
            "POSITIVE SCORE: 0.10607930070203922\n",
            "NEGATIVE SCORE: -0.10607930070203922\n",
            "POLARITY SCORE: 0.10607930070203922\n",
            "SUBJECTIVITY SCORE: 0.3785477329687856\n",
            "AVG SENTENCE LENGTH: 17.414634146341463\n",
            "PERCENTAGE OF COMPLEX WORDS: 16.736694677871146\n",
            "FOG INDEX: 13.660531529685045\n",
            "AVG NUMBER OF WORDS PER SENTENCE: 17.414634146341463\n",
            "COMPLEX WORD COUNT: 239\n",
            "WORD COUNT: 1428\n",
            "SYLLABLE PER WORD: 1.6470588235294117\n",
            "PERSONAL PRONOUNS: 18\n",
            "AVG WORD LENGTH: 4.46078431372549\n",
            "-----------------------\n"
          ]
        },
        {
          "output_type": "stream",
          "name": "stderr",
          "text": [
            "[nltk_data] Downloading package punkt to /root/nltk_data...\n",
            "[nltk_data]   Package punkt is already up-to-date!\n",
            "[nltk_data] Downloading package averaged_perceptron_tagger to\n",
            "[nltk_data]     /root/nltk_data...\n",
            "[nltk_data]   Package averaged_perceptron_tagger is already up-to-\n",
            "[nltk_data]       date!\n",
            "[nltk_data] Downloading package cmudict to /root/nltk_data...\n",
            "[nltk_data]   Package cmudict is already up-to-date!\n"
          ]
        },
        {
          "output_type": "stream",
          "name": "stdout",
          "text": [
            "Metrics for URL: https://insights.blackcoffer.com/how-ai-will-change-the-world-blackcoffer/\n",
            "POSITIVE SCORE: 0.14755515318015325\n",
            "NEGATIVE SCORE: -0.14755515318015325\n",
            "POLARITY SCORE: 0.14755515318015325\n",
            "SUBJECTIVITY SCORE: 0.40120962370962354\n",
            "AVG SENTENCE LENGTH: 27.671641791044777\n",
            "PERCENTAGE OF COMPLEX WORDS: 14.670981661272922\n",
            "FOG INDEX: 16.93704938092708\n",
            "AVG NUMBER OF WORDS PER SENTENCE: 27.671641791044777\n",
            "COMPLEX WORD COUNT: 272\n",
            "WORD COUNT: 1854\n",
            "SYLLABLE PER WORD: 1.6197411003236246\n",
            "PERSONAL PRONOUNS: 60\n",
            "AVG WORD LENGTH: 4.552858683926645\n",
            "-----------------------\n"
          ]
        },
        {
          "output_type": "stream",
          "name": "stderr",
          "text": [
            "[nltk_data] Downloading package punkt to /root/nltk_data...\n",
            "[nltk_data]   Package punkt is already up-to-date!\n",
            "[nltk_data] Downloading package averaged_perceptron_tagger to\n",
            "[nltk_data]     /root/nltk_data...\n",
            "[nltk_data]   Package averaged_perceptron_tagger is already up-to-\n",
            "[nltk_data]       date!\n",
            "[nltk_data] Downloading package cmudict to /root/nltk_data...\n",
            "[nltk_data]   Package cmudict is already up-to-date!\n"
          ]
        },
        {
          "output_type": "stream",
          "name": "stdout",
          "text": [
            "Metrics for URL: https://insights.blackcoffer.com/future-of-work-how-ai-has-entered-the-workplace/\n",
            "POSITIVE SCORE: 0.06067077536543188\n",
            "NEGATIVE SCORE: -0.06067077536543188\n",
            "POLARITY SCORE: 0.06067077536543188\n",
            "SUBJECTIVITY SCORE: 0.4665985096328609\n",
            "AVG SENTENCE LENGTH: 22.285714285714285\n",
            "PERCENTAGE OF COMPLEX WORDS: 17.681623931623932\n",
            "FOG INDEX: 15.986935286935287\n",
            "AVG NUMBER OF WORDS PER SENTENCE: 22.285714285714285\n",
            "COMPLEX WORD COUNT: 331\n",
            "WORD COUNT: 1872\n",
            "SYLLABLE PER WORD: 1.6917735042735043\n",
            "PERSONAL PRONOUNS: 34\n",
            "AVG WORD LENGTH: 4.598290598290598\n",
            "-----------------------\n"
          ]
        },
        {
          "output_type": "stream",
          "name": "stderr",
          "text": [
            "[nltk_data] Downloading package punkt to /root/nltk_data...\n",
            "[nltk_data]   Package punkt is already up-to-date!\n",
            "[nltk_data] Downloading package averaged_perceptron_tagger to\n",
            "[nltk_data]     /root/nltk_data...\n",
            "[nltk_data]   Package averaged_perceptron_tagger is already up-to-\n",
            "[nltk_data]       date!\n",
            "[nltk_data] Downloading package cmudict to /root/nltk_data...\n",
            "[nltk_data]   Package cmudict is already up-to-date!\n"
          ]
        },
        {
          "output_type": "stream",
          "name": "stdout",
          "text": [
            "Metrics for URL: https://insights.blackcoffer.com/ai-tool-alexa-google-assistant-finance-banking-tool-future/\n",
            "POSITIVE SCORE: 0.1761308203991131\n",
            "NEGATIVE SCORE: -0.1761308203991131\n",
            "POLARITY SCORE: 0.1761308203991131\n",
            "SUBJECTIVITY SCORE: 0.5311677753141167\n",
            "AVG SENTENCE LENGTH: 25.636363636363637\n",
            "PERCENTAGE OF COMPLEX WORDS: 22.163120567375884\n",
            "FOG INDEX: 19.11979368149581\n",
            "AVG NUMBER OF WORDS PER SENTENCE: 25.636363636363637\n",
            "COMPLEX WORD COUNT: 125\n",
            "WORD COUNT: 564\n",
            "SYLLABLE PER WORD: 1.7836879432624113\n",
            "PERSONAL PRONOUNS: 5\n",
            "AVG WORD LENGTH: 4.975177304964539\n",
            "-----------------------\n"
          ]
        },
        {
          "output_type": "stream",
          "name": "stderr",
          "text": [
            "[nltk_data] Downloading package punkt to /root/nltk_data...\n",
            "[nltk_data]   Package punkt is already up-to-date!\n",
            "[nltk_data] Downloading package averaged_perceptron_tagger to\n",
            "[nltk_data]     /root/nltk_data...\n",
            "[nltk_data]   Package averaged_perceptron_tagger is already up-to-\n",
            "[nltk_data]       date!\n",
            "[nltk_data] Downloading package cmudict to /root/nltk_data...\n",
            "[nltk_data]   Package cmudict is already up-to-date!\n"
          ]
        },
        {
          "output_type": "stream",
          "name": "stdout",
          "text": [
            "Metrics for URL: https://insights.blackcoffer.com/ai-healthcare-revolution-ml-technology-algorithm-google-analytics-industrialrevolution/\n",
            "POSITIVE SCORE: 0.1326305759457933\n",
            "NEGATIVE SCORE: -0.1326305759457933\n",
            "POLARITY SCORE: 0.1326305759457933\n",
            "SUBJECTIVITY SCORE: 0.504171019198193\n",
            "AVG SENTENCE LENGTH: 210.55555555555554\n",
            "PERCENTAGE OF COMPLEX WORDS: 15.092348284960423\n",
            "FOG INDEX: 90.25916153620639\n",
            "AVG NUMBER OF WORDS PER SENTENCE: 210.55555555555554\n",
            "COMPLEX WORD COUNT: 286\n",
            "WORD COUNT: 1895\n",
            "SYLLABLE PER WORD: 1.6110817941952507\n",
            "PERSONAL PRONOUNS: 51\n",
            "AVG WORD LENGTH: 4.5973614775725595\n",
            "-----------------------\n"
          ]
        },
        {
          "output_type": "stream",
          "name": "stderr",
          "text": [
            "[nltk_data] Downloading package punkt to /root/nltk_data...\n",
            "[nltk_data]   Package punkt is already up-to-date!\n",
            "[nltk_data] Downloading package averaged_perceptron_tagger to\n",
            "[nltk_data]     /root/nltk_data...\n",
            "[nltk_data]   Package averaged_perceptron_tagger is already up-to-\n",
            "[nltk_data]       date!\n",
            "[nltk_data] Downloading package cmudict to /root/nltk_data...\n",
            "[nltk_data]   Package cmudict is already up-to-date!\n"
          ]
        },
        {
          "output_type": "stream",
          "name": "stdout",
          "text": [
            "Metrics for URL: https://insights.blackcoffer.com/all-you-need-to-know-about-online-marketing/\n",
            "POSITIVE SCORE: 0.18236446093588943\n",
            "NEGATIVE SCORE: -0.18236446093588943\n",
            "POLARITY SCORE: 0.18236446093588943\n",
            "SUBJECTIVITY SCORE: 0.44819238301381165\n",
            "AVG SENTENCE LENGTH: 19.285714285714285\n",
            "PERCENTAGE OF COMPLEX WORDS: 21.48148148148148\n",
            "FOG INDEX: 16.306878306878307\n",
            "AVG NUMBER OF WORDS PER SENTENCE: 19.285714285714285\n",
            "COMPLEX WORD COUNT: 232\n",
            "WORD COUNT: 1080\n",
            "SYLLABLE PER WORD: 1.6935185185185184\n",
            "PERSONAL PRONOUNS: 39\n",
            "AVG WORD LENGTH: 4.708333333333333\n",
            "-----------------------\n"
          ]
        },
        {
          "output_type": "stream",
          "name": "stderr",
          "text": [
            "[nltk_data] Downloading package punkt to /root/nltk_data...\n",
            "[nltk_data]   Package punkt is already up-to-date!\n",
            "[nltk_data] Downloading package averaged_perceptron_tagger to\n",
            "[nltk_data]     /root/nltk_data...\n",
            "[nltk_data]   Package averaged_perceptron_tagger is already up-to-\n",
            "[nltk_data]       date!\n",
            "[nltk_data] Downloading package cmudict to /root/nltk_data...\n",
            "[nltk_data]   Package cmudict is already up-to-date!\n"
          ]
        },
        {
          "output_type": "stream",
          "name": "stdout",
          "text": [
            "Metrics for URL: https://insights.blackcoffer.com/evolution-of-advertising-industry/\n",
            "POSITIVE SCORE: 0.0876316738816739\n",
            "NEGATIVE SCORE: -0.0876316738816739\n",
            "POLARITY SCORE: 0.0876316738816739\n",
            "SUBJECTIVITY SCORE: 0.34342171717171716\n",
            "AVG SENTENCE LENGTH: 20.325\n",
            "PERCENTAGE OF COMPLEX WORDS: 24.477244772447722\n",
            "FOG INDEX: 17.92089790897909\n",
            "AVG NUMBER OF WORDS PER SENTENCE: 20.325\n",
            "COMPLEX WORD COUNT: 199\n",
            "WORD COUNT: 813\n",
            "SYLLABLE PER WORD: 1.795817958179582\n",
            "PERSONAL PRONOUNS: 6\n",
            "AVG WORD LENGTH: 4.924969249692497\n",
            "-----------------------\n"
          ]
        },
        {
          "output_type": "stream",
          "name": "stderr",
          "text": [
            "[nltk_data] Downloading package punkt to /root/nltk_data...\n",
            "[nltk_data]   Package punkt is already up-to-date!\n",
            "[nltk_data] Downloading package averaged_perceptron_tagger to\n",
            "[nltk_data]     /root/nltk_data...\n",
            "[nltk_data]   Package averaged_perceptron_tagger is already up-to-\n",
            "[nltk_data]       date!\n",
            "[nltk_data] Downloading package cmudict to /root/nltk_data...\n",
            "[nltk_data]   Package cmudict is already up-to-date!\n"
          ]
        },
        {
          "output_type": "stream",
          "name": "stdout",
          "text": [
            "Metrics for URL: https://insights.blackcoffer.com/how-data-analytics-can-help-your-business-respond-to-the-impact-of-covid-19/\n",
            "POSITIVE SCORE: 0.09166796166796166\n",
            "NEGATIVE SCORE: -0.09166796166796166\n",
            "POLARITY SCORE: 0.09166796166796166\n",
            "SUBJECTIVITY SCORE: 0.3912768712768713\n",
            "AVG SENTENCE LENGTH: 29.416666666666668\n",
            "PERCENTAGE OF COMPLEX WORDS: 20.113314447592067\n",
            "FOG INDEX: 19.811992445703495\n",
            "AVG NUMBER OF WORDS PER SENTENCE: 29.416666666666668\n",
            "COMPLEX WORD COUNT: 71\n",
            "WORD COUNT: 353\n",
            "SYLLABLE PER WORD: 1.7592067988668556\n",
            "PERSONAL PRONOUNS: 7\n",
            "AVG WORD LENGTH: 4.932011331444759\n",
            "-----------------------\n"
          ]
        },
        {
          "output_type": "stream",
          "name": "stderr",
          "text": [
            "[nltk_data] Downloading package punkt to /root/nltk_data...\n",
            "[nltk_data]   Package punkt is already up-to-date!\n",
            "[nltk_data] Downloading package averaged_perceptron_tagger to\n",
            "[nltk_data]     /root/nltk_data...\n",
            "[nltk_data]   Package averaged_perceptron_tagger is already up-to-\n",
            "[nltk_data]       date!\n",
            "[nltk_data] Downloading package cmudict to /root/nltk_data...\n",
            "[nltk_data]   Package cmudict is already up-to-date!\n"
          ]
        },
        {
          "output_type": "stream",
          "name": "stdout",
          "text": [
            "Error processing URL: https://insights.blackcoffer.com/covid-19-environmental-impact-for-the-future/\n",
            "Article `download()` failed with 404 Client Error: Not Found for url: https://insights.blackcoffer.com/covid-19-environmental-impact-for-the-future/ on URL https://insights.blackcoffer.com/covid-19-environmental-impact-for-the-future/\n",
            "-----------------------\n"
          ]
        },
        {
          "output_type": "stream",
          "name": "stderr",
          "text": [
            "[nltk_data] Downloading package punkt to /root/nltk_data...\n",
            "[nltk_data]   Package punkt is already up-to-date!\n",
            "[nltk_data] Downloading package averaged_perceptron_tagger to\n",
            "[nltk_data]     /root/nltk_data...\n",
            "[nltk_data]   Package averaged_perceptron_tagger is already up-to-\n",
            "[nltk_data]       date!\n",
            "[nltk_data] Downloading package cmudict to /root/nltk_data...\n",
            "[nltk_data]   Package cmudict is already up-to-date!\n"
          ]
        },
        {
          "output_type": "stream",
          "name": "stdout",
          "text": [
            "Metrics for URL: https://insights.blackcoffer.com/environmental-impact-of-the-covid-19-pandemic-lesson-for-the-future/\n",
            "POSITIVE SCORE: 0.0441591080876795\n",
            "NEGATIVE SCORE: -0.0441591080876795\n",
            "POLARITY SCORE: 0.0441591080876795\n",
            "SUBJECTIVITY SCORE: 0.3958860980289551\n",
            "AVG SENTENCE LENGTH: 27.303571428571427\n",
            "PERCENTAGE OF COMPLEX WORDS: 17.724002616088946\n",
            "FOG INDEX: 18.01102961786415\n",
            "AVG NUMBER OF WORDS PER SENTENCE: 27.303571428571427\n",
            "COMPLEX WORD COUNT: 271\n",
            "WORD COUNT: 1529\n",
            "SYLLABLE PER WORD: 1.6644865925441465\n",
            "PERSONAL PRONOUNS: 20\n",
            "AVG WORD LENGTH: 4.701765860039242\n",
            "-----------------------\n"
          ]
        },
        {
          "output_type": "stream",
          "name": "stderr",
          "text": [
            "[nltk_data] Downloading package punkt to /root/nltk_data...\n",
            "[nltk_data]   Package punkt is already up-to-date!\n",
            "[nltk_data] Downloading package averaged_perceptron_tagger to\n",
            "[nltk_data]     /root/nltk_data...\n",
            "[nltk_data]   Package averaged_perceptron_tagger is already up-to-\n",
            "[nltk_data]       date!\n",
            "[nltk_data] Downloading package cmudict to /root/nltk_data...\n",
            "[nltk_data]   Package cmudict is already up-to-date!\n"
          ]
        },
        {
          "output_type": "stream",
          "name": "stdout",
          "text": [
            "Metrics for URL: https://insights.blackcoffer.com/how-data-analytics-and-ai-are-used-to-halt-the-covid-19-pandemic/\n",
            "POSITIVE SCORE: 0.15593822843822838\n",
            "NEGATIVE SCORE: -0.15593822843822838\n",
            "POLARITY SCORE: 0.15593822843822838\n",
            "SUBJECTIVITY SCORE: 0.4100283050283051\n",
            "AVG SENTENCE LENGTH: 27.655172413793103\n",
            "PERCENTAGE OF COMPLEX WORDS: 18.5785536159601\n",
            "FOG INDEX: 18.49349041190128\n",
            "AVG NUMBER OF WORDS PER SENTENCE: 27.655172413793103\n",
            "COMPLEX WORD COUNT: 149\n",
            "WORD COUNT: 802\n",
            "SYLLABLE PER WORD: 1.6795511221945136\n",
            "PERSONAL PRONOUNS: 11\n",
            "AVG WORD LENGTH: 4.5785536159601\n",
            "-----------------------\n"
          ]
        },
        {
          "output_type": "stream",
          "name": "stderr",
          "text": [
            "[nltk_data] Downloading package punkt to /root/nltk_data...\n",
            "[nltk_data]   Package punkt is already up-to-date!\n",
            "[nltk_data] Downloading package averaged_perceptron_tagger to\n",
            "[nltk_data]     /root/nltk_data...\n",
            "[nltk_data]   Package averaged_perceptron_tagger is already up-to-\n",
            "[nltk_data]       date!\n",
            "[nltk_data] Downloading package cmudict to /root/nltk_data...\n",
            "[nltk_data]   Package cmudict is already up-to-date!\n"
          ]
        },
        {
          "output_type": "stream",
          "name": "stdout",
          "text": [
            "Metrics for URL: https://insights.blackcoffer.com/difference-between-artificial-intelligence-machine-learning-statistics-and-data-mining/\n",
            "POSITIVE SCORE: 0.19193558535267086\n",
            "NEGATIVE SCORE: -0.19193558535267086\n",
            "POLARITY SCORE: 0.19193558535267086\n",
            "SUBJECTIVITY SCORE: 0.4757927332299194\n",
            "AVG SENTENCE LENGTH: 19.63063063063063\n",
            "PERCENTAGE OF COMPLEX WORDS: 15.511702615878844\n",
            "FOG INDEX: 14.05693329860379\n",
            "AVG NUMBER OF WORDS PER SENTENCE: 19.63063063063063\n",
            "COMPLEX WORD COUNT: 338\n",
            "WORD COUNT: 2179\n",
            "SYLLABLE PER WORD: 1.585589720055071\n",
            "PERSONAL PRONOUNS: 40\n",
            "AVG WORD LENGTH: 4.426801284993116\n",
            "-----------------------\n"
          ]
        },
        {
          "output_type": "stream",
          "name": "stderr",
          "text": [
            "[nltk_data] Downloading package punkt to /root/nltk_data...\n",
            "[nltk_data]   Package punkt is already up-to-date!\n",
            "[nltk_data] Downloading package averaged_perceptron_tagger to\n",
            "[nltk_data]     /root/nltk_data...\n",
            "[nltk_data]   Package averaged_perceptron_tagger is already up-to-\n",
            "[nltk_data]       date!\n",
            "[nltk_data] Downloading package cmudict to /root/nltk_data...\n",
            "[nltk_data]   Package cmudict is already up-to-date!\n"
          ]
        },
        {
          "output_type": "stream",
          "name": "stdout",
          "text": [
            "Metrics for URL: https://insights.blackcoffer.com/how-python-became-the-first-choice-for-data-science/\n",
            "POSITIVE SCORE: 0.27188644688644686\n",
            "NEGATIVE SCORE: -0.27188644688644686\n",
            "POLARITY SCORE: 0.27188644688644686\n",
            "SUBJECTIVITY SCORE: 0.5027521367521367\n",
            "AVG SENTENCE LENGTH: 17.386363636363637\n",
            "PERCENTAGE OF COMPLEX WORDS: 18.169934640522875\n",
            "FOG INDEX: 14.222519310754604\n",
            "AVG NUMBER OF WORDS PER SENTENCE: 17.386363636363637\n",
            "COMPLEX WORD COUNT: 139\n",
            "WORD COUNT: 765\n",
            "SYLLABLE PER WORD: 1.7084967320261437\n",
            "PERSONAL PRONOUNS: 17\n",
            "AVG WORD LENGTH: 4.626143790849674\n",
            "-----------------------\n"
          ]
        },
        {
          "output_type": "stream",
          "name": "stderr",
          "text": [
            "[nltk_data] Downloading package punkt to /root/nltk_data...\n",
            "[nltk_data]   Package punkt is already up-to-date!\n",
            "[nltk_data] Downloading package averaged_perceptron_tagger to\n",
            "[nltk_data]     /root/nltk_data...\n",
            "[nltk_data]   Package averaged_perceptron_tagger is already up-to-\n",
            "[nltk_data]       date!\n",
            "[nltk_data] Downloading package cmudict to /root/nltk_data...\n",
            "[nltk_data]   Package cmudict is already up-to-date!\n"
          ]
        },
        {
          "output_type": "stream",
          "name": "stdout",
          "text": [
            "Metrics for URL: https://insights.blackcoffer.com/how-google-fit-measure-heart-and-respiratory-rates-using-a-phone/\n",
            "POSITIVE SCORE: 0.12852891156462584\n",
            "NEGATIVE SCORE: -0.12852891156462584\n",
            "POLARITY SCORE: 0.12852891156462584\n",
            "SUBJECTIVITY SCORE: 0.43758503401360543\n",
            "AVG SENTENCE LENGTH: 24.705882352941178\n",
            "PERCENTAGE OF COMPLEX WORDS: 17.61904761904762\n",
            "FOG INDEX: 16.92997198879552\n",
            "AVG NUMBER OF WORDS PER SENTENCE: 24.705882352941178\n",
            "COMPLEX WORD COUNT: 74\n",
            "WORD COUNT: 420\n",
            "SYLLABLE PER WORD: 1.6690476190476191\n",
            "PERSONAL PRONOUNS: 11\n",
            "AVG WORD LENGTH: 4.580952380952381\n",
            "-----------------------\n"
          ]
        },
        {
          "output_type": "stream",
          "name": "stderr",
          "text": [
            "[nltk_data] Downloading package punkt to /root/nltk_data...\n",
            "[nltk_data]   Package punkt is already up-to-date!\n",
            "[nltk_data] Downloading package averaged_perceptron_tagger to\n",
            "[nltk_data]     /root/nltk_data...\n",
            "[nltk_data]   Package averaged_perceptron_tagger is already up-to-\n",
            "[nltk_data]       date!\n",
            "[nltk_data] Downloading package cmudict to /root/nltk_data...\n",
            "[nltk_data]   Package cmudict is already up-to-date!\n"
          ]
        },
        {
          "output_type": "stream",
          "name": "stdout",
          "text": [
            "Metrics for URL: https://insights.blackcoffer.com/what-is-the-future-of-mobile-apps/\n",
            "POSITIVE SCORE: 0.15242025518341307\n",
            "NEGATIVE SCORE: -0.15242025518341307\n",
            "POLARITY SCORE: 0.15242025518341307\n",
            "SUBJECTIVITY SCORE: 0.45939393939393935\n",
            "AVG SENTENCE LENGTH: 26.054545454545455\n",
            "PERCENTAGE OF COMPLEX WORDS: 15.701325889741803\n",
            "FOG INDEX: 16.702348537714904\n",
            "AVG NUMBER OF WORDS PER SENTENCE: 26.054545454545455\n",
            "COMPLEX WORD COUNT: 225\n",
            "WORD COUNT: 1433\n",
            "SYLLABLE PER WORD: 1.595254710397767\n",
            "PERSONAL PRONOUNS: 34\n",
            "AVG WORD LENGTH: 4.425680390788555\n",
            "-----------------------\n"
          ]
        },
        {
          "output_type": "stream",
          "name": "stderr",
          "text": [
            "[nltk_data] Downloading package punkt to /root/nltk_data...\n",
            "[nltk_data]   Package punkt is already up-to-date!\n",
            "[nltk_data] Downloading package averaged_perceptron_tagger to\n",
            "[nltk_data]     /root/nltk_data...\n",
            "[nltk_data]   Package averaged_perceptron_tagger is already up-to-\n",
            "[nltk_data]       date!\n",
            "[nltk_data] Downloading package cmudict to /root/nltk_data...\n",
            "[nltk_data]   Package cmudict is already up-to-date!\n"
          ]
        },
        {
          "output_type": "stream",
          "name": "stdout",
          "text": [
            "Metrics for URL: https://insights.blackcoffer.com/impact-of-ai-in-health-and-medicine/\n",
            "POSITIVE SCORE: 0.12596268810554526\n",
            "NEGATIVE SCORE: -0.12596268810554526\n",
            "POLARITY SCORE: 0.12596268810554526\n",
            "SUBJECTIVITY SCORE: 0.3756125884697314\n",
            "AVG SENTENCE LENGTH: 29.0\n",
            "PERCENTAGE OF COMPLEX WORDS: 22.988505747126435\n",
            "FOG INDEX: 20.795402298850576\n",
            "AVG NUMBER OF WORDS PER SENTENCE: 29.0\n",
            "COMPLEX WORD COUNT: 160\n",
            "WORD COUNT: 696\n",
            "SYLLABLE PER WORD: 1.8347701149425288\n",
            "PERSONAL PRONOUNS: 7\n",
            "AVG WORD LENGTH: 4.962643678160919\n",
            "-----------------------\n"
          ]
        },
        {
          "output_type": "stream",
          "name": "stderr",
          "text": [
            "[nltk_data] Downloading package punkt to /root/nltk_data...\n",
            "[nltk_data]   Package punkt is already up-to-date!\n",
            "[nltk_data] Downloading package averaged_perceptron_tagger to\n",
            "[nltk_data]     /root/nltk_data...\n",
            "[nltk_data]   Package averaged_perceptron_tagger is already up-to-\n",
            "[nltk_data]       date!\n",
            "[nltk_data] Downloading package cmudict to /root/nltk_data...\n",
            "[nltk_data]   Package cmudict is already up-to-date!\n"
          ]
        },
        {
          "output_type": "stream",
          "name": "stdout",
          "text": [
            "Metrics for URL: https://insights.blackcoffer.com/telemedicine-what-patients-like-and-dislike-about-it/\n",
            "POSITIVE SCORE: 0.22744949494949493\n",
            "NEGATIVE SCORE: -0.22744949494949493\n",
            "POLARITY SCORE: 0.22744949494949493\n",
            "SUBJECTIVITY SCORE: 0.5095454545454545\n",
            "AVG SENTENCE LENGTH: 15.714285714285714\n",
            "PERCENTAGE OF COMPLEX WORDS: 15.454545454545453\n",
            "FOG INDEX: 12.467532467532468\n",
            "AVG NUMBER OF WORDS PER SENTENCE: 15.714285714285714\n",
            "COMPLEX WORD COUNT: 68\n",
            "WORD COUNT: 440\n",
            "SYLLABLE PER WORD: 1.6227272727272728\n",
            "PERSONAL PRONOUNS: 12\n",
            "AVG WORD LENGTH: 4.6477272727272725\n",
            "-----------------------\n"
          ]
        },
        {
          "output_type": "stream",
          "name": "stderr",
          "text": [
            "[nltk_data] Downloading package punkt to /root/nltk_data...\n",
            "[nltk_data]   Package punkt is already up-to-date!\n",
            "[nltk_data] Downloading package averaged_perceptron_tagger to\n",
            "[nltk_data]     /root/nltk_data...\n",
            "[nltk_data]   Package averaged_perceptron_tagger is already up-to-\n",
            "[nltk_data]       date!\n",
            "[nltk_data] Downloading package cmudict to /root/nltk_data...\n",
            "[nltk_data]   Package cmudict is already up-to-date!\n"
          ]
        },
        {
          "output_type": "stream",
          "name": "stdout",
          "text": [
            "Metrics for URL: https://insights.blackcoffer.com/how-we-forecast-future-technologies/\n",
            "POSITIVE SCORE: 0.04611801242236026\n",
            "NEGATIVE SCORE: -0.04611801242236026\n",
            "POLARITY SCORE: 0.04611801242236026\n",
            "SUBJECTIVITY SCORE: 0.2803312629399586\n",
            "AVG SENTENCE LENGTH: 16.545454545454547\n",
            "PERCENTAGE OF COMPLEX WORDS: 19.78021978021978\n",
            "FOG INDEX: 14.530269730269731\n",
            "AVG NUMBER OF WORDS PER SENTENCE: 16.545454545454547\n",
            "COMPLEX WORD COUNT: 36\n",
            "WORD COUNT: 182\n",
            "SYLLABLE PER WORD: 1.8241758241758241\n",
            "PERSONAL PRONOUNS: 3\n",
            "AVG WORD LENGTH: 4.928571428571429\n",
            "-----------------------\n"
          ]
        },
        {
          "output_type": "stream",
          "name": "stderr",
          "text": [
            "[nltk_data] Downloading package punkt to /root/nltk_data...\n",
            "[nltk_data]   Package punkt is already up-to-date!\n",
            "[nltk_data] Downloading package averaged_perceptron_tagger to\n",
            "[nltk_data]     /root/nltk_data...\n",
            "[nltk_data]   Package averaged_perceptron_tagger is already up-to-\n",
            "[nltk_data]       date!\n",
            "[nltk_data] Downloading package cmudict to /root/nltk_data...\n",
            "[nltk_data]   Package cmudict is already up-to-date!\n"
          ]
        },
        {
          "output_type": "stream",
          "name": "stdout",
          "text": [
            "Metrics for URL: https://insights.blackcoffer.com/can-robots-tackle-late-life-loneliness/\n",
            "POSITIVE SCORE: 0.05008615288220553\n",
            "NEGATIVE SCORE: -0.05008615288220553\n",
            "POLARITY SCORE: 0.05008615288220553\n",
            "SUBJECTIVITY SCORE: 0.48135964912280715\n",
            "AVG SENTENCE LENGTH: 16.964285714285715\n",
            "PERCENTAGE OF COMPLEX WORDS: 11.68421052631579\n",
            "FOG INDEX: 11.459398496240603\n",
            "AVG NUMBER OF WORDS PER SENTENCE: 16.964285714285715\n",
            "COMPLEX WORD COUNT: 111\n",
            "WORD COUNT: 950\n",
            "SYLLABLE PER WORD: 1.5084210526315789\n",
            "PERSONAL PRONOUNS: 91\n",
            "AVG WORD LENGTH: 4.1557894736842105\n",
            "-----------------------\n"
          ]
        },
        {
          "output_type": "stream",
          "name": "stderr",
          "text": [
            "[nltk_data] Downloading package punkt to /root/nltk_data...\n",
            "[nltk_data]   Package punkt is already up-to-date!\n",
            "[nltk_data] Downloading package averaged_perceptron_tagger to\n",
            "[nltk_data]     /root/nltk_data...\n",
            "[nltk_data]   Package averaged_perceptron_tagger is already up-to-\n",
            "[nltk_data]       date!\n",
            "[nltk_data] Downloading package cmudict to /root/nltk_data...\n",
            "[nltk_data]   Package cmudict is already up-to-date!\n"
          ]
        },
        {
          "output_type": "stream",
          "name": "stdout",
          "text": [
            "Metrics for URL: https://insights.blackcoffer.com/embedding-care-robots-into-society-socio-technical-considerations/\n",
            "POSITIVE SCORE: 0.3378571428571428\n",
            "NEGATIVE SCORE: -0.3378571428571428\n",
            "POLARITY SCORE: 0.3378571428571428\n",
            "SUBJECTIVITY SCORE: 0.45642857142857146\n",
            "AVG SENTENCE LENGTH: 20.3\n",
            "PERCENTAGE OF COMPLEX WORDS: 13.793103448275861\n",
            "FOG INDEX: 13.637241379310346\n",
            "AVG NUMBER OF WORDS PER SENTENCE: 20.3\n",
            "COMPLEX WORD COUNT: 28\n",
            "WORD COUNT: 203\n",
            "SYLLABLE PER WORD: 1.5862068965517242\n",
            "PERSONAL PRONOUNS: 8\n",
            "AVG WORD LENGTH: 4.330049261083744\n",
            "-----------------------\n"
          ]
        },
        {
          "output_type": "stream",
          "name": "stderr",
          "text": [
            "[nltk_data] Downloading package punkt to /root/nltk_data...\n",
            "[nltk_data]   Package punkt is already up-to-date!\n",
            "[nltk_data] Downloading package averaged_perceptron_tagger to\n",
            "[nltk_data]     /root/nltk_data...\n",
            "[nltk_data]   Package averaged_perceptron_tagger is already up-to-\n",
            "[nltk_data]       date!\n",
            "[nltk_data] Downloading package cmudict to /root/nltk_data...\n",
            "[nltk_data]   Package cmudict is already up-to-date!\n"
          ]
        },
        {
          "output_type": "stream",
          "name": "stdout",
          "text": [
            "Metrics for URL: https://insights.blackcoffer.com/management-challenges-for-future-digitalization-of-healthcare-services/\n",
            "POSITIVE SCORE: 0.09398727844482561\n",
            "NEGATIVE SCORE: -0.09398727844482561\n",
            "POLARITY SCORE: 0.09398727844482561\n",
            "SUBJECTIVITY SCORE: 0.39394511149228123\n",
            "AVG SENTENCE LENGTH: 21.693548387096776\n",
            "PERCENTAGE OF COMPLEX WORDS: 22.676579925650557\n",
            "FOG INDEX: 17.748051325098935\n",
            "AVG NUMBER OF WORDS PER SENTENCE: 21.693548387096776\n",
            "COMPLEX WORD COUNT: 305\n",
            "WORD COUNT: 1345\n",
            "SYLLABLE PER WORD: 1.8379182156133829\n",
            "PERSONAL PRONOUNS: 23\n",
            "AVG WORD LENGTH: 5.080297397769517\n",
            "-----------------------\n"
          ]
        },
        {
          "output_type": "stream",
          "name": "stderr",
          "text": [
            "[nltk_data] Downloading package punkt to /root/nltk_data...\n",
            "[nltk_data]   Package punkt is already up-to-date!\n",
            "[nltk_data] Downloading package averaged_perceptron_tagger to\n",
            "[nltk_data]     /root/nltk_data...\n",
            "[nltk_data]   Package averaged_perceptron_tagger is already up-to-\n",
            "[nltk_data]       date!\n",
            "[nltk_data] Downloading package cmudict to /root/nltk_data...\n",
            "[nltk_data]   Package cmudict is already up-to-date!\n"
          ]
        },
        {
          "output_type": "stream",
          "name": "stdout",
          "text": [
            "Metrics for URL: https://insights.blackcoffer.com/are-we-any-closer-to-preventing-a-nuclear-holocaust/\n",
            "POSITIVE SCORE: 0.050444275112642455\n",
            "NEGATIVE SCORE: -0.050444275112642455\n",
            "POLARITY SCORE: 0.050444275112642455\n",
            "SUBJECTIVITY SCORE: 0.39726201519568866\n",
            "AVG SENTENCE LENGTH: 19.677419354838708\n",
            "PERCENTAGE OF COMPLEX WORDS: 18.360655737704917\n",
            "FOG INDEX: 15.215230037017449\n",
            "AVG NUMBER OF WORDS PER SENTENCE: 19.677419354838708\n",
            "COMPLEX WORD COUNT: 112\n",
            "WORD COUNT: 610\n",
            "SYLLABLE PER WORD: 1.6098360655737705\n",
            "PERSONAL PRONOUNS: 16\n",
            "AVG WORD LENGTH: 4.50655737704918\n",
            "-----------------------\n"
          ]
        },
        {
          "output_type": "stream",
          "name": "stderr",
          "text": [
            "[nltk_data] Downloading package punkt to /root/nltk_data...\n",
            "[nltk_data]   Package punkt is already up-to-date!\n",
            "[nltk_data] Downloading package averaged_perceptron_tagger to\n",
            "[nltk_data]     /root/nltk_data...\n",
            "[nltk_data]   Package averaged_perceptron_tagger is already up-to-\n",
            "[nltk_data]       date!\n",
            "[nltk_data] Downloading package cmudict to /root/nltk_data...\n",
            "[nltk_data]   Package cmudict is already up-to-date!\n"
          ]
        },
        {
          "output_type": "stream",
          "name": "stdout",
          "text": [
            "Metrics for URL: https://insights.blackcoffer.com/will-technology-eliminate-the-need-for-animal-testing-in-drug-development/\n",
            "POSITIVE SCORE: 0.03847287813196904\n",
            "NEGATIVE SCORE: -0.03847287813196904\n",
            "POLARITY SCORE: 0.03847287813196904\n",
            "SUBJECTIVITY SCORE: 0.47690123638987303\n",
            "AVG SENTENCE LENGTH: 22.363636363636363\n",
            "PERCENTAGE OF COMPLEX WORDS: 16.097560975609756\n",
            "FOG INDEX: 15.384478935698448\n",
            "AVG NUMBER OF WORDS PER SENTENCE: 22.363636363636363\n",
            "COMPLEX WORD COUNT: 198\n",
            "WORD COUNT: 1230\n",
            "SYLLABLE PER WORD: 1.610569105691057\n",
            "PERSONAL PRONOUNS: 35\n",
            "AVG WORD LENGTH: 4.508130081300813\n",
            "-----------------------\n"
          ]
        },
        {
          "output_type": "stream",
          "name": "stderr",
          "text": [
            "[nltk_data] Downloading package punkt to /root/nltk_data...\n",
            "[nltk_data]   Package punkt is already up-to-date!\n",
            "[nltk_data] Downloading package averaged_perceptron_tagger to\n",
            "[nltk_data]     /root/nltk_data...\n",
            "[nltk_data]   Package averaged_perceptron_tagger is already up-to-\n",
            "[nltk_data]       date!\n",
            "[nltk_data] Downloading package cmudict to /root/nltk_data...\n",
            "[nltk_data]   Package cmudict is already up-to-date!\n"
          ]
        },
        {
          "output_type": "stream",
          "name": "stdout",
          "text": [
            "Metrics for URL: https://insights.blackcoffer.com/will-we-ever-understand-the-nature-of-consciousness/\n",
            "POSITIVE SCORE: 0.08824155360468211\n",
            "NEGATIVE SCORE: -0.08824155360468211\n",
            "POLARITY SCORE: 0.08824155360468211\n",
            "SUBJECTIVITY SCORE: 0.40256850226123964\n",
            "AVG SENTENCE LENGTH: 26.716216216216218\n",
            "PERCENTAGE OF COMPLEX WORDS: 21.851289833080425\n",
            "FOG INDEX: 19.427002419718658\n",
            "AVG NUMBER OF WORDS PER SENTENCE: 26.716216216216218\n",
            "COMPLEX WORD COUNT: 432\n",
            "WORD COUNT: 1977\n",
            "SYLLABLE PER WORD: 1.748103186646434\n",
            "PERSONAL PRONOUNS: 42\n",
            "AVG WORD LENGTH: 4.790591805766312\n",
            "-----------------------\n"
          ]
        },
        {
          "output_type": "stream",
          "name": "stderr",
          "text": [
            "[nltk_data] Downloading package punkt to /root/nltk_data...\n",
            "[nltk_data]   Package punkt is already up-to-date!\n",
            "[nltk_data] Downloading package averaged_perceptron_tagger to\n",
            "[nltk_data]     /root/nltk_data...\n",
            "[nltk_data]   Package averaged_perceptron_tagger is already up-to-\n",
            "[nltk_data]       date!\n",
            "[nltk_data] Downloading package cmudict to /root/nltk_data...\n",
            "[nltk_data]   Package cmudict is already up-to-date!\n"
          ]
        },
        {
          "output_type": "stream",
          "name": "stdout",
          "text": [
            "Metrics for URL: https://insights.blackcoffer.com/will-we-ever-colonize-outer-space/\n",
            "POSITIVE SCORE: 0.12432342244842245\n",
            "NEGATIVE SCORE: -0.12432342244842245\n",
            "POLARITY SCORE: 0.12432342244842245\n",
            "SUBJECTIVITY SCORE: 0.4999897174897173\n",
            "AVG SENTENCE LENGTH: 27.681159420289855\n",
            "PERCENTAGE OF COMPLEX WORDS: 14.45026178010471\n",
            "FOG INDEX: 16.852568480157828\n",
            "AVG NUMBER OF WORDS PER SENTENCE: 27.681159420289855\n",
            "COMPLEX WORD COUNT: 276\n",
            "WORD COUNT: 1910\n",
            "SYLLABLE PER WORD: 1.5554973821989528\n",
            "PERSONAL PRONOUNS: 42\n",
            "AVG WORD LENGTH: 4.4319371727748695\n",
            "-----------------------\n"
          ]
        },
        {
          "output_type": "stream",
          "name": "stderr",
          "text": [
            "[nltk_data] Downloading package punkt to /root/nltk_data...\n",
            "[nltk_data]   Package punkt is already up-to-date!\n",
            "[nltk_data] Downloading package averaged_perceptron_tagger to\n",
            "[nltk_data]     /root/nltk_data...\n",
            "[nltk_data]   Package averaged_perceptron_tagger is already up-to-\n",
            "[nltk_data]       date!\n",
            "[nltk_data] Downloading package cmudict to /root/nltk_data...\n",
            "[nltk_data]   Package cmudict is already up-to-date!\n"
          ]
        },
        {
          "output_type": "stream",
          "name": "stdout",
          "text": [
            "Metrics for URL: https://insights.blackcoffer.com/what-is-the-chance-homo-sapiens-will-survive-for-the-next-500-years/\n",
            "POSITIVE SCORE: 0.06454872646733112\n",
            "NEGATIVE SCORE: -0.06454872646733112\n",
            "POLARITY SCORE: 0.06454872646733112\n",
            "SUBJECTIVITY SCORE: 0.398343484680694\n",
            "AVG SENTENCE LENGTH: 20.365853658536587\n",
            "PERCENTAGE OF COMPLEX WORDS: 15.449101796407186\n",
            "FOG INDEX: 14.325982181977508\n",
            "AVG NUMBER OF WORDS PER SENTENCE: 20.365853658536587\n",
            "COMPLEX WORD COUNT: 258\n",
            "WORD COUNT: 1670\n",
            "SYLLABLE PER WORD: 1.6005988023952096\n",
            "PERSONAL PRONOUNS: 45\n",
            "AVG WORD LENGTH: 4.344311377245509\n",
            "-----------------------\n"
          ]
        },
        {
          "output_type": "stream",
          "name": "stderr",
          "text": [
            "[nltk_data] Downloading package punkt to /root/nltk_data...\n",
            "[nltk_data]   Package punkt is already up-to-date!\n",
            "[nltk_data] Downloading package averaged_perceptron_tagger to\n",
            "[nltk_data]     /root/nltk_data...\n",
            "[nltk_data]   Package averaged_perceptron_tagger is already up-to-\n",
            "[nltk_data]       date!\n",
            "[nltk_data] Downloading package cmudict to /root/nltk_data...\n",
            "[nltk_data]   Package cmudict is already up-to-date!\n"
          ]
        },
        {
          "output_type": "stream",
          "name": "stdout",
          "text": [
            "Metrics for URL: https://insights.blackcoffer.com/why-does-your-business-need-a-chatbot/\n",
            "POSITIVE SCORE: 0.17849927849927852\n",
            "NEGATIVE SCORE: -0.17849927849927852\n",
            "POLARITY SCORE: 0.17849927849927852\n",
            "SUBJECTIVITY SCORE: 0.47281052281052294\n",
            "AVG SENTENCE LENGTH: 16.06451612903226\n",
            "PERCENTAGE OF COMPLEX WORDS: 14.558232931726907\n",
            "FOG INDEX: 12.249099624303668\n",
            "AVG NUMBER OF WORDS PER SENTENCE: 16.06451612903226\n",
            "COMPLEX WORD COUNT: 145\n",
            "WORD COUNT: 996\n",
            "SYLLABLE PER WORD: 1.536144578313253\n",
            "PERSONAL PRONOUNS: 68\n",
            "AVG WORD LENGTH: 4.164658634538153\n",
            "-----------------------\n"
          ]
        },
        {
          "output_type": "stream",
          "name": "stderr",
          "text": [
            "[nltk_data] Downloading package punkt to /root/nltk_data...\n",
            "[nltk_data]   Package punkt is already up-to-date!\n",
            "[nltk_data] Downloading package averaged_perceptron_tagger to\n",
            "[nltk_data]     /root/nltk_data...\n",
            "[nltk_data]   Package averaged_perceptron_tagger is already up-to-\n",
            "[nltk_data]       date!\n",
            "[nltk_data] Downloading package cmudict to /root/nltk_data...\n",
            "[nltk_data]   Package cmudict is already up-to-date!\n"
          ]
        },
        {
          "output_type": "stream",
          "name": "stdout",
          "text": [
            "Metrics for URL: https://insights.blackcoffer.com/how-you-lead-a-project-or-a-team-without-any-technical-expertise/\n",
            "POSITIVE SCORE: 0.2201765188834155\n",
            "NEGATIVE SCORE: -0.2201765188834155\n",
            "POLARITY SCORE: 0.2201765188834155\n",
            "SUBJECTIVITY SCORE: 0.43684318555008217\n",
            "AVG SENTENCE LENGTH: 24.484848484848484\n",
            "PERCENTAGE OF COMPLEX WORDS: 12.871287128712872\n",
            "FOG INDEX: 14.942454245424543\n",
            "AVG NUMBER OF WORDS PER SENTENCE: 24.484848484848484\n",
            "COMPLEX WORD COUNT: 208\n",
            "WORD COUNT: 1616\n",
            "SYLLABLE PER WORD: 1.4783415841584158\n",
            "PERSONAL PRONOUNS: 61\n",
            "AVG WORD LENGTH: 4.097153465346534\n",
            "-----------------------\n"
          ]
        },
        {
          "output_type": "stream",
          "name": "stderr",
          "text": [
            "[nltk_data] Downloading package punkt to /root/nltk_data...\n",
            "[nltk_data]   Package punkt is already up-to-date!\n",
            "[nltk_data] Downloading package averaged_perceptron_tagger to\n",
            "[nltk_data]     /root/nltk_data...\n",
            "[nltk_data]   Package averaged_perceptron_tagger is already up-to-\n",
            "[nltk_data]       date!\n",
            "[nltk_data] Downloading package cmudict to /root/nltk_data...\n",
            "[nltk_data]   Package cmudict is already up-to-date!\n"
          ]
        },
        {
          "output_type": "stream",
          "name": "stdout",
          "text": [
            "Metrics for URL: https://insights.blackcoffer.com/can-you-be-great-leader-without-technical-expertise/\n",
            "POSITIVE SCORE: 0.25395622895622894\n",
            "NEGATIVE SCORE: -0.25395622895622894\n",
            "POLARITY SCORE: 0.25395622895622894\n",
            "SUBJECTIVITY SCORE: 0.5148629148629151\n",
            "AVG SENTENCE LENGTH: 32.9375\n",
            "PERCENTAGE OF COMPLEX WORDS: 16.318785578747626\n",
            "FOG INDEX: 19.702514231499052\n",
            "AVG NUMBER OF WORDS PER SENTENCE: 32.9375\n",
            "COMPLEX WORD COUNT: 86\n",
            "WORD COUNT: 527\n",
            "SYLLABLE PER WORD: 1.537001897533207\n",
            "PERSONAL PRONOUNS: 23\n",
            "AVG WORD LENGTH: 4.2637571157495255\n",
            "-----------------------\n"
          ]
        },
        {
          "output_type": "stream",
          "name": "stderr",
          "text": [
            "[nltk_data] Downloading package punkt to /root/nltk_data...\n",
            "[nltk_data]   Package punkt is already up-to-date!\n",
            "[nltk_data] Downloading package averaged_perceptron_tagger to\n",
            "[nltk_data]     /root/nltk_data...\n",
            "[nltk_data]   Package averaged_perceptron_tagger is already up-to-\n",
            "[nltk_data]       date!\n",
            "[nltk_data] Downloading package cmudict to /root/nltk_data...\n",
            "[nltk_data]   Package cmudict is already up-to-date!\n"
          ]
        },
        {
          "output_type": "stream",
          "name": "stdout",
          "text": [
            "Metrics for URL: https://insights.blackcoffer.com/how-does-artificial-intelligence-affect-the-environment/\n",
            "POSITIVE SCORE: 0.12155610912076428\n",
            "NEGATIVE SCORE: -0.12155610912076428\n",
            "POLARITY SCORE: 0.12155610912076428\n",
            "SUBJECTIVITY SCORE: 0.453966608104539\n",
            "AVG SENTENCE LENGTH: 25.728571428571428\n",
            "PERCENTAGE OF COMPLEX WORDS: 17.71238200999445\n",
            "FOG INDEX: 17.37638137542635\n",
            "AVG NUMBER OF WORDS PER SENTENCE: 25.728571428571428\n",
            "COMPLEX WORD COUNT: 319\n",
            "WORD COUNT: 1801\n",
            "SYLLABLE PER WORD: 1.7034980566352027\n",
            "PERSONAL PRONOUNS: 13\n",
            "AVG WORD LENGTH: 4.663520266518601\n",
            "-----------------------\n"
          ]
        },
        {
          "output_type": "stream",
          "name": "stderr",
          "text": [
            "[nltk_data] Downloading package punkt to /root/nltk_data...\n",
            "[nltk_data]   Package punkt is already up-to-date!\n",
            "[nltk_data] Downloading package averaged_perceptron_tagger to\n",
            "[nltk_data]     /root/nltk_data...\n",
            "[nltk_data]   Package averaged_perceptron_tagger is already up-to-\n",
            "[nltk_data]       date!\n",
            "[nltk_data] Downloading package cmudict to /root/nltk_data...\n",
            "[nltk_data]   Package cmudict is already up-to-date!\n"
          ]
        },
        {
          "output_type": "stream",
          "name": "stdout",
          "text": [
            "Metrics for URL: https://insights.blackcoffer.com/how-to-overcome-your-fear-of-making-mistakes-2/\n",
            "POSITIVE SCORE: 0.07680677032717849\n",
            "NEGATIVE SCORE: -0.07680677032717849\n",
            "POLARITY SCORE: 0.07680677032717849\n",
            "SUBJECTIVITY SCORE: 0.5767808551992226\n",
            "AVG SENTENCE LENGTH: 15.077922077922079\n",
            "PERCENTAGE OF COMPLEX WORDS: 12.31696813092162\n",
            "FOG INDEX: 10.95795608353748\n",
            "AVG NUMBER OF WORDS PER SENTENCE: 15.077922077922079\n",
            "COMPLEX WORD COUNT: 143\n",
            "WORD COUNT: 1161\n",
            "SYLLABLE PER WORD: 1.5314384151593454\n",
            "PERSONAL PRONOUNS: 86\n",
            "AVG WORD LENGTH: 4.19724375538329\n",
            "-----------------------\n"
          ]
        },
        {
          "output_type": "stream",
          "name": "stderr",
          "text": [
            "[nltk_data] Downloading package punkt to /root/nltk_data...\n",
            "[nltk_data]   Package punkt is already up-to-date!\n",
            "[nltk_data] Downloading package averaged_perceptron_tagger to\n",
            "[nltk_data]     /root/nltk_data...\n",
            "[nltk_data]   Package averaged_perceptron_tagger is already up-to-\n",
            "[nltk_data]       date!\n",
            "[nltk_data] Downloading package cmudict to /root/nltk_data...\n",
            "[nltk_data]   Package cmudict is already up-to-date!\n"
          ]
        },
        {
          "output_type": "stream",
          "name": "stdout",
          "text": [
            "Metrics for URL: https://insights.blackcoffer.com/is-perfection-the-greatest-enemy-of-productivity/\n",
            "POSITIVE SCORE: 0.2626820728291317\n",
            "NEGATIVE SCORE: -0.2626820728291317\n",
            "POLARITY SCORE: 0.2626820728291317\n",
            "SUBJECTIVITY SCORE: 0.6234313725490195\n",
            "AVG SENTENCE LENGTH: 16.727272727272727\n",
            "PERCENTAGE OF COMPLEX WORDS: 11.335403726708075\n",
            "FOG INDEX: 11.22507058159232\n",
            "AVG NUMBER OF WORDS PER SENTENCE: 16.727272727272727\n",
            "COMPLEX WORD COUNT: 146\n",
            "WORD COUNT: 1288\n",
            "SYLLABLE PER WORD: 1.4464285714285714\n",
            "PERSONAL PRONOUNS: 91\n",
            "AVG WORD LENGTH: 4.083074534161491\n",
            "-----------------------\n"
          ]
        },
        {
          "output_type": "stream",
          "name": "stderr",
          "text": [
            "[nltk_data] Downloading package punkt to /root/nltk_data...\n",
            "[nltk_data]   Package punkt is already up-to-date!\n",
            "[nltk_data] Downloading package averaged_perceptron_tagger to\n",
            "[nltk_data]     /root/nltk_data...\n",
            "[nltk_data]   Package averaged_perceptron_tagger is already up-to-\n",
            "[nltk_data]       date!\n",
            "[nltk_data] Downloading package cmudict to /root/nltk_data...\n",
            "[nltk_data]   Package cmudict is already up-to-date!\n"
          ]
        },
        {
          "output_type": "stream",
          "name": "stdout",
          "text": [
            "Metrics for URL: https://insights.blackcoffer.com/global-financial-crisis-2008-causes-effects-and-its-solution/\n",
            "POSITIVE SCORE: 0.10091925398377011\n",
            "NEGATIVE SCORE: -0.10091925398377011\n",
            "POLARITY SCORE: 0.10091925398377011\n",
            "SUBJECTIVITY SCORE: 0.43261862390894656\n",
            "AVG SENTENCE LENGTH: 23.857142857142858\n",
            "PERCENTAGE OF COMPLEX WORDS: 14.37125748502994\n",
            "FOG INDEX: 15.29136013686912\n",
            "AVG NUMBER OF WORDS PER SENTENCE: 23.857142857142858\n",
            "COMPLEX WORD COUNT: 192\n",
            "WORD COUNT: 1336\n",
            "SYLLABLE PER WORD: 1.5561377245508983\n",
            "PERSONAL PRONOUNS: 17\n",
            "AVG WORD LENGTH: 4.5104790419161676\n",
            "-----------------------\n"
          ]
        },
        {
          "output_type": "stream",
          "name": "stderr",
          "text": [
            "[nltk_data] Downloading package punkt to /root/nltk_data...\n",
            "[nltk_data]   Package punkt is already up-to-date!\n",
            "[nltk_data] Downloading package averaged_perceptron_tagger to\n",
            "[nltk_data]     /root/nltk_data...\n",
            "[nltk_data]   Package averaged_perceptron_tagger is already up-to-\n",
            "[nltk_data]       date!\n",
            "[nltk_data] Downloading package cmudict to /root/nltk_data...\n",
            "[nltk_data]   Package cmudict is already up-to-date!\n"
          ]
        },
        {
          "output_type": "stream",
          "name": "stdout",
          "text": [
            "Metrics for URL: https://insights.blackcoffer.com/gender-diversity-and-equality-in-the-tech-industry/\n",
            "POSITIVE SCORE: 0.10186831875607386\n",
            "NEGATIVE SCORE: -0.10186831875607386\n",
            "POLARITY SCORE: 0.10186831875607386\n",
            "SUBJECTIVITY SCORE: 0.35501479812704323\n",
            "AVG SENTENCE LENGTH: 20.23170731707317\n",
            "PERCENTAGE OF COMPLEX WORDS: 18.083182640144667\n",
            "FOG INDEX: 15.325955982887136\n",
            "AVG NUMBER OF WORDS PER SENTENCE: 20.23170731707317\n",
            "COMPLEX WORD COUNT: 300\n",
            "WORD COUNT: 1659\n",
            "SYLLABLE PER WORD: 1.7221217600964436\n",
            "PERSONAL PRONOUNS: 30\n",
            "AVG WORD LENGTH: 4.635322483423749\n",
            "-----------------------\n"
          ]
        },
        {
          "output_type": "stream",
          "name": "stderr",
          "text": [
            "[nltk_data] Downloading package punkt to /root/nltk_data...\n",
            "[nltk_data]   Package punkt is already up-to-date!\n",
            "[nltk_data] Downloading package averaged_perceptron_tagger to\n",
            "[nltk_data]     /root/nltk_data...\n",
            "[nltk_data]   Package averaged_perceptron_tagger is already up-to-\n",
            "[nltk_data]       date!\n",
            "[nltk_data] Downloading package cmudict to /root/nltk_data...\n",
            "[nltk_data]   Package cmudict is already up-to-date!\n"
          ]
        },
        {
          "output_type": "stream",
          "name": "stdout",
          "text": [
            "Metrics for URL: https://insights.blackcoffer.com/how-to-overcome-your-fear-of-making-mistakes/\n",
            "POSITIVE SCORE: 0.07263869992441419\n",
            "NEGATIVE SCORE: -0.07263869992441419\n",
            "POLARITY SCORE: 0.07263869992441419\n",
            "SUBJECTIVITY SCORE: 0.5635668934240364\n",
            "AVG SENTENCE LENGTH: 15.39240506329114\n",
            "PERCENTAGE OF COMPLEX WORDS: 12.828947368421053\n",
            "FOG INDEX: 11.288540972684878\n",
            "AVG NUMBER OF WORDS PER SENTENCE: 15.39240506329114\n",
            "COMPLEX WORD COUNT: 156\n",
            "WORD COUNT: 1216\n",
            "SYLLABLE PER WORD: 1.5501644736842106\n",
            "PERSONAL PRONOUNS: 88\n",
            "AVG WORD LENGTH: 4.245065789473684\n",
            "-----------------------\n"
          ]
        },
        {
          "output_type": "stream",
          "name": "stderr",
          "text": [
            "[nltk_data] Downloading package punkt to /root/nltk_data...\n",
            "[nltk_data]   Package punkt is already up-to-date!\n",
            "[nltk_data] Downloading package averaged_perceptron_tagger to\n",
            "[nltk_data]     /root/nltk_data...\n",
            "[nltk_data]   Package averaged_perceptron_tagger is already up-to-\n",
            "[nltk_data]       date!\n",
            "[nltk_data] Downloading package cmudict to /root/nltk_data...\n",
            "[nltk_data]   Package cmudict is already up-to-date!\n"
          ]
        },
        {
          "output_type": "stream",
          "name": "stdout",
          "text": [
            "Metrics for URL: https://insights.blackcoffer.com/how-small-business-can-survive-the-coronavirus-crisis/\n",
            "POSITIVE SCORE: 0.025853230497780245\n",
            "NEGATIVE SCORE: -0.025853230497780245\n",
            "POLARITY SCORE: 0.025853230497780245\n",
            "SUBJECTIVITY SCORE: 0.44898942816004445\n",
            "AVG SENTENCE LENGTH: 29.013513513513512\n",
            "PERCENTAGE OF COMPLEX WORDS: 14.951094550535633\n",
            "FOG INDEX: 17.58584322561966\n",
            "AVG NUMBER OF WORDS PER SENTENCE: 29.013513513513512\n",
            "COMPLEX WORD COUNT: 321\n",
            "WORD COUNT: 2147\n",
            "SYLLABLE PER WORD: 1.5402887750349326\n",
            "PERSONAL PRONOUNS: 74\n",
            "AVG WORD LENGTH: 4.386585933861202\n",
            "-----------------------\n"
          ]
        },
        {
          "output_type": "stream",
          "name": "stderr",
          "text": [
            "[nltk_data] Downloading package punkt to /root/nltk_data...\n",
            "[nltk_data]   Package punkt is already up-to-date!\n",
            "[nltk_data] Downloading package averaged_perceptron_tagger to\n",
            "[nltk_data]     /root/nltk_data...\n",
            "[nltk_data]   Package averaged_perceptron_tagger is already up-to-\n",
            "[nltk_data]       date!\n",
            "[nltk_data] Downloading package cmudict to /root/nltk_data...\n",
            "[nltk_data]   Package cmudict is already up-to-date!\n"
          ]
        },
        {
          "output_type": "stream",
          "name": "stdout",
          "text": [
            "Metrics for URL: https://insights.blackcoffer.com/impacts-of-covid-19-on-vegetable-vendors-and-food-stalls/\n",
            "POSITIVE SCORE: 0.06537518037518036\n",
            "NEGATIVE SCORE: -0.06537518037518036\n",
            "POLARITY SCORE: 0.06537518037518036\n",
            "SUBJECTIVITY SCORE: 0.4051252100390031\n",
            "AVG SENTENCE LENGTH: 31.51851851851852\n",
            "PERCENTAGE OF COMPLEX WORDS: 16.216216216216218\n",
            "FOG INDEX: 19.093893893893895\n",
            "AVG NUMBER OF WORDS PER SENTENCE: 31.51851851851852\n",
            "COMPLEX WORD COUNT: 138\n",
            "WORD COUNT: 851\n",
            "SYLLABLE PER WORD: 1.6592244418331374\n",
            "PERSONAL PRONOUNS: 10\n",
            "AVG WORD LENGTH: 4.749706227967097\n",
            "-----------------------\n"
          ]
        },
        {
          "output_type": "stream",
          "name": "stderr",
          "text": [
            "[nltk_data] Downloading package punkt to /root/nltk_data...\n",
            "[nltk_data]   Package punkt is already up-to-date!\n",
            "[nltk_data] Downloading package averaged_perceptron_tagger to\n",
            "[nltk_data]     /root/nltk_data...\n",
            "[nltk_data]   Package averaged_perceptron_tagger is already up-to-\n",
            "[nltk_data]       date!\n",
            "[nltk_data] Downloading package cmudict to /root/nltk_data...\n",
            "[nltk_data]   Package cmudict is already up-to-date!\n"
          ]
        },
        {
          "output_type": "stream",
          "name": "stdout",
          "text": [
            "Metrics for URL: https://insights.blackcoffer.com/impacts-of-covid-19-on-vegetable-vendors/\n",
            "POSITIVE SCORE: 0.06364806364806361\n",
            "NEGATIVE SCORE: -0.06364806364806361\n",
            "POLARITY SCORE: 0.06364806364806361\n",
            "SUBJECTIVITY SCORE: 0.3976110226110225\n",
            "AVG SENTENCE LENGTH: 32.51219512195122\n",
            "PERCENTAGE OF COMPLEX WORDS: 18.67966991747937\n",
            "FOG INDEX: 20.47674601577224\n",
            "AVG NUMBER OF WORDS PER SENTENCE: 32.51219512195122\n",
            "COMPLEX WORD COUNT: 249\n",
            "WORD COUNT: 1333\n",
            "SYLLABLE PER WORD: 1.7291822955738936\n",
            "PERSONAL PRONOUNS: 13\n",
            "AVG WORD LENGTH: 4.913728432108027\n",
            "-----------------------\n"
          ]
        },
        {
          "output_type": "stream",
          "name": "stderr",
          "text": [
            "[nltk_data] Downloading package punkt to /root/nltk_data...\n",
            "[nltk_data]   Package punkt is already up-to-date!\n",
            "[nltk_data] Downloading package averaged_perceptron_tagger to\n",
            "[nltk_data]     /root/nltk_data...\n",
            "[nltk_data]   Package averaged_perceptron_tagger is already up-to-\n",
            "[nltk_data]       date!\n",
            "[nltk_data] Downloading package cmudict to /root/nltk_data...\n",
            "[nltk_data]   Package cmudict is already up-to-date!\n"
          ]
        },
        {
          "output_type": "stream",
          "name": "stdout",
          "text": [
            "Metrics for URL: https://insights.blackcoffer.com/impact-of-covid-19-pandemic-on-tourism-aviation-industries/\n",
            "POSITIVE SCORE: 0.07158336966790203\n",
            "NEGATIVE SCORE: -0.07158336966790203\n",
            "POLARITY SCORE: 0.07158336966790203\n",
            "SUBJECTIVITY SCORE: 0.4132259946288723\n",
            "AVG SENTENCE LENGTH: 24.50632911392405\n",
            "PERCENTAGE OF COMPLEX WORDS: 17.97520661157025\n",
            "FOG INDEX: 16.992614290197718\n",
            "AVG NUMBER OF WORDS PER SENTENCE: 24.50632911392405\n",
            "COMPLEX WORD COUNT: 348\n",
            "WORD COUNT: 1936\n",
            "SYLLABLE PER WORD: 1.6430785123966942\n",
            "PERSONAL PRONOUNS: 41\n",
            "AVG WORD LENGTH: 4.6022727272727275\n",
            "-----------------------\n"
          ]
        },
        {
          "output_type": "stream",
          "name": "stderr",
          "text": [
            "[nltk_data] Downloading package punkt to /root/nltk_data...\n",
            "[nltk_data]   Package punkt is already up-to-date!\n",
            "[nltk_data] Downloading package averaged_perceptron_tagger to\n",
            "[nltk_data]     /root/nltk_data...\n",
            "[nltk_data]   Package averaged_perceptron_tagger is already up-to-\n",
            "[nltk_data]       date!\n",
            "[nltk_data] Downloading package cmudict to /root/nltk_data...\n",
            "[nltk_data]   Package cmudict is already up-to-date!\n"
          ]
        },
        {
          "output_type": "stream",
          "name": "stdout",
          "text": [
            "Metrics for URL: https://insights.blackcoffer.com/impact-of-covid-19-pandemic-on-sports-events-around-the-world/\n",
            "POSITIVE SCORE: 0.04960279082619508\n",
            "NEGATIVE SCORE: -0.04960279082619508\n",
            "POLARITY SCORE: 0.04960279082619508\n",
            "SUBJECTIVITY SCORE: 0.3315663503163504\n",
            "AVG SENTENCE LENGTH: 20.38974358974359\n",
            "PERCENTAGE OF COMPLEX WORDS: 13.732394366197184\n",
            "FOG INDEX: 13.648855182376309\n",
            "AVG NUMBER OF WORDS PER SENTENCE: 20.38974358974359\n",
            "COMPLEX WORD COUNT: 546\n",
            "WORD COUNT: 3976\n",
            "SYLLABLE PER WORD: 1.5872736418511066\n",
            "PERSONAL PRONOUNS: 5\n",
            "AVG WORD LENGTH: 4.361670020120724\n",
            "-----------------------\n"
          ]
        },
        {
          "output_type": "stream",
          "name": "stderr",
          "text": [
            "[nltk_data] Downloading package punkt to /root/nltk_data...\n",
            "[nltk_data]   Package punkt is already up-to-date!\n",
            "[nltk_data] Downloading package averaged_perceptron_tagger to\n",
            "[nltk_data]     /root/nltk_data...\n",
            "[nltk_data]   Package averaged_perceptron_tagger is already up-to-\n",
            "[nltk_data]       date!\n",
            "[nltk_data] Downloading package cmudict to /root/nltk_data...\n",
            "[nltk_data]   Package cmudict is already up-to-date!\n"
          ]
        },
        {
          "output_type": "stream",
          "name": "stdout",
          "text": [
            "Metrics for URL: https://insights.blackcoffer.com/changing-landscape-and-emerging-trends-in-the-indian-it-ites-industry/\n",
            "POSITIVE SCORE: 0.019572268708174752\n",
            "NEGATIVE SCORE: -0.019572268708174752\n",
            "POLARITY SCORE: 0.019572268708174752\n",
            "SUBJECTIVITY SCORE: 0.46124592037343715\n",
            "AVG SENTENCE LENGTH: 23.44578313253012\n",
            "PERCENTAGE OF COMPLEX WORDS: 17.728674203494347\n",
            "FOG INDEX: 16.46978293440979\n",
            "AVG NUMBER OF WORDS PER SENTENCE: 23.44578313253012\n",
            "COMPLEX WORD COUNT: 345\n",
            "WORD COUNT: 1946\n",
            "SYLLABLE PER WORD: 1.6495375128468655\n",
            "PERSONAL PRONOUNS: 40\n",
            "AVG WORD LENGTH: 4.629496402877698\n",
            "-----------------------\n"
          ]
        },
        {
          "output_type": "stream",
          "name": "stderr",
          "text": [
            "[nltk_data] Downloading package punkt to /root/nltk_data...\n",
            "[nltk_data]   Package punkt is already up-to-date!\n",
            "[nltk_data] Downloading package averaged_perceptron_tagger to\n",
            "[nltk_data]     /root/nltk_data...\n",
            "[nltk_data]   Package averaged_perceptron_tagger is already up-to-\n",
            "[nltk_data]       date!\n",
            "[nltk_data] Downloading package cmudict to /root/nltk_data...\n",
            "[nltk_data]   Package cmudict is already up-to-date!\n"
          ]
        },
        {
          "output_type": "stream",
          "name": "stdout",
          "text": [
            "Metrics for URL: https://insights.blackcoffer.com/online-gaming-adolescent-online-gaming-effects-demotivated-depression-musculoskeletal-and-psychosomatic-symptoms/\n",
            "POSITIVE SCORE: 0.018814935064935066\n",
            "NEGATIVE SCORE: -0.018814935064935066\n",
            "POLARITY SCORE: 0.018814935064935066\n",
            "SUBJECTIVITY SCORE: 0.37167676767676755\n",
            "AVG SENTENCE LENGTH: 28.183333333333334\n",
            "PERCENTAGE OF COMPLEX WORDS: 24.482554701360144\n",
            "FOG INDEX: 21.066355213877394\n",
            "AVG NUMBER OF WORDS PER SENTENCE: 28.183333333333334\n",
            "COMPLEX WORD COUNT: 414\n",
            "WORD COUNT: 1691\n",
            "SYLLABLE PER WORD: 1.8308693081017149\n",
            "PERSONAL PRONOUNS: 8\n",
            "AVG WORD LENGTH: 5.014192785334122\n",
            "-----------------------\n"
          ]
        },
        {
          "output_type": "stream",
          "name": "stderr",
          "text": [
            "[nltk_data] Downloading package punkt to /root/nltk_data...\n",
            "[nltk_data]   Package punkt is already up-to-date!\n",
            "[nltk_data] Downloading package averaged_perceptron_tagger to\n",
            "[nltk_data]     /root/nltk_data...\n",
            "[nltk_data]   Package averaged_perceptron_tagger is already up-to-\n",
            "[nltk_data]       date!\n",
            "[nltk_data] Downloading package cmudict to /root/nltk_data...\n",
            "[nltk_data]   Package cmudict is already up-to-date!\n"
          ]
        },
        {
          "output_type": "stream",
          "name": "stdout",
          "text": [
            "Metrics for URL: https://insights.blackcoffer.com/human-rights-outlook/\n",
            "POSITIVE SCORE: 0.2584290709290709\n",
            "NEGATIVE SCORE: -0.2584290709290709\n",
            "POLARITY SCORE: 0.2584290709290709\n",
            "SUBJECTIVITY SCORE: 0.4681610056610056\n",
            "AVG SENTENCE LENGTH: 20.88888888888889\n",
            "PERCENTAGE OF COMPLEX WORDS: 14.893617021276595\n",
            "FOG INDEX: 14.313002364066193\n",
            "AVG NUMBER OF WORDS PER SENTENCE: 20.88888888888889\n",
            "COMPLEX WORD COUNT: 28\n",
            "WORD COUNT: 188\n",
            "SYLLABLE PER WORD: 1.5585106382978724\n",
            "PERSONAL PRONOUNS: 11\n",
            "AVG WORD LENGTH: 4.303191489361702\n",
            "-----------------------\n"
          ]
        },
        {
          "output_type": "stream",
          "name": "stderr",
          "text": [
            "[nltk_data] Downloading package punkt to /root/nltk_data...\n",
            "[nltk_data]   Package punkt is already up-to-date!\n",
            "[nltk_data] Downloading package averaged_perceptron_tagger to\n",
            "[nltk_data]     /root/nltk_data...\n",
            "[nltk_data]   Package averaged_perceptron_tagger is already up-to-\n",
            "[nltk_data]       date!\n",
            "[nltk_data] Downloading package cmudict to /root/nltk_data...\n",
            "[nltk_data]   Package cmudict is already up-to-date!\n"
          ]
        },
        {
          "output_type": "stream",
          "name": "stdout",
          "text": [
            "Metrics for URL: https://insights.blackcoffer.com/how-voice-search-makes-your-business-a-successful-business/\n",
            "POSITIVE SCORE: 0.15826583210603828\n",
            "NEGATIVE SCORE: -0.15826583210603828\n",
            "POLARITY SCORE: 0.15826583210603828\n",
            "SUBJECTIVITY SCORE: 0.47622115856651936\n",
            "AVG SENTENCE LENGTH: 24.659574468085108\n",
            "PERCENTAGE OF COMPLEX WORDS: 12.76962899050906\n",
            "FOG INDEX: 14.971681383437668\n",
            "AVG NUMBER OF WORDS PER SENTENCE: 24.659574468085108\n",
            "COMPLEX WORD COUNT: 148\n",
            "WORD COUNT: 1159\n",
            "SYLLABLE PER WORD: 1.5012942191544434\n",
            "PERSONAL PRONOUNS: 39\n",
            "AVG WORD LENGTH: 4.223468507333909\n",
            "-----------------------\n"
          ]
        },
        {
          "output_type": "stream",
          "name": "stderr",
          "text": [
            "[nltk_data] Downloading package punkt to /root/nltk_data...\n",
            "[nltk_data]   Package punkt is already up-to-date!\n",
            "[nltk_data] Downloading package averaged_perceptron_tagger to\n",
            "[nltk_data]     /root/nltk_data...\n",
            "[nltk_data]   Package averaged_perceptron_tagger is already up-to-\n",
            "[nltk_data]       date!\n",
            "[nltk_data] Downloading package cmudict to /root/nltk_data...\n",
            "[nltk_data]   Package cmudict is already up-to-date!\n"
          ]
        },
        {
          "output_type": "stream",
          "name": "stdout",
          "text": [
            "Metrics for URL: https://insights.blackcoffer.com/how-the-covid-19-crisis-is-redefining-jobs-and-services/\n",
            "POSITIVE SCORE: 0.10960267701647014\n",
            "NEGATIVE SCORE: -0.10960267701647014\n",
            "POLARITY SCORE: 0.10960267701647014\n",
            "SUBJECTIVITY SCORE: 0.43117604617604605\n",
            "AVG SENTENCE LENGTH: 16.933333333333334\n",
            "PERCENTAGE OF COMPLEX WORDS: 17.076771653543307\n",
            "FOG INDEX: 13.604041994750657\n",
            "AVG NUMBER OF WORDS PER SENTENCE: 16.933333333333334\n",
            "COMPLEX WORD COUNT: 347\n",
            "WORD COUNT: 2032\n",
            "SYLLABLE PER WORD: 1.5846456692913387\n",
            "PERSONAL PRONOUNS: 35\n",
            "AVG WORD LENGTH: 4.518208661417323\n",
            "-----------------------\n"
          ]
        },
        {
          "output_type": "stream",
          "name": "stderr",
          "text": [
            "[nltk_data] Downloading package punkt to /root/nltk_data...\n",
            "[nltk_data]   Package punkt is already up-to-date!\n",
            "[nltk_data] Downloading package averaged_perceptron_tagger to\n",
            "[nltk_data]     /root/nltk_data...\n",
            "[nltk_data]   Package averaged_perceptron_tagger is already up-to-\n",
            "[nltk_data]       date!\n",
            "[nltk_data] Downloading package cmudict to /root/nltk_data...\n",
            "[nltk_data]   Package cmudict is already up-to-date!\n"
          ]
        },
        {
          "output_type": "stream",
          "name": "stdout",
          "text": [
            "Metrics for URL: https://insights.blackcoffer.com/how-to-increase-social-media-engagement-for-marketers/\n",
            "POSITIVE SCORE: 0.15788537367025748\n",
            "NEGATIVE SCORE: -0.15788537367025748\n",
            "POLARITY SCORE: 0.15788537367025748\n",
            "SUBJECTIVITY SCORE: 0.4301200801782199\n",
            "AVG SENTENCE LENGTH: 21.585106382978722\n",
            "PERCENTAGE OF COMPLEX WORDS: 18.58058156727452\n",
            "FOG INDEX: 16.066275180101297\n",
            "AVG NUMBER OF WORDS PER SENTENCE: 21.585106382978722\n",
            "COMPLEX WORD COUNT: 377\n",
            "WORD COUNT: 2029\n",
            "SYLLABLE PER WORD: 1.6426811237062593\n",
            "PERSONAL PRONOUNS: 40\n",
            "AVG WORD LENGTH: 4.516017742730409\n",
            "-----------------------\n"
          ]
        },
        {
          "output_type": "stream",
          "name": "stderr",
          "text": [
            "[nltk_data] Downloading package punkt to /root/nltk_data...\n",
            "[nltk_data]   Package punkt is already up-to-date!\n",
            "[nltk_data] Downloading package averaged_perceptron_tagger to\n",
            "[nltk_data]     /root/nltk_data...\n",
            "[nltk_data]   Package averaged_perceptron_tagger is already up-to-\n",
            "[nltk_data]       date!\n",
            "[nltk_data] Downloading package cmudict to /root/nltk_data...\n",
            "[nltk_data]   Package cmudict is already up-to-date!\n"
          ]
        },
        {
          "output_type": "stream",
          "name": "stdout",
          "text": [
            "Metrics for URL: https://insights.blackcoffer.com/impacts-of-covid-19-on-streets-sides-food-stalls/\n",
            "POSITIVE SCORE: 0.09475304998032269\n",
            "NEGATIVE SCORE: -0.09475304998032269\n",
            "POLARITY SCORE: 0.09475304998032269\n",
            "SUBJECTIVITY SCORE: 0.4424435980685981\n",
            "AVG SENTENCE LENGTH: 25.425531914893618\n",
            "PERCENTAGE OF COMPLEX WORDS: 16.569037656903767\n",
            "FOG INDEX: 16.797827828718955\n",
            "AVG NUMBER OF WORDS PER SENTENCE: 25.425531914893618\n",
            "COMPLEX WORD COUNT: 198\n",
            "WORD COUNT: 1195\n",
            "SYLLABLE PER WORD: 1.6175732217573222\n",
            "PERSONAL PRONOUNS: 29\n",
            "AVG WORD LENGTH: 4.5849372384937235\n",
            "-----------------------\n"
          ]
        },
        {
          "output_type": "stream",
          "name": "stderr",
          "text": [
            "[nltk_data] Downloading package punkt to /root/nltk_data...\n",
            "[nltk_data]   Package punkt is already up-to-date!\n",
            "[nltk_data] Downloading package averaged_perceptron_tagger to\n",
            "[nltk_data]     /root/nltk_data...\n",
            "[nltk_data]   Package averaged_perceptron_tagger is already up-to-\n",
            "[nltk_data]       date!\n",
            "[nltk_data] Downloading package cmudict to /root/nltk_data...\n",
            "[nltk_data]   Package cmudict is already up-to-date!\n"
          ]
        },
        {
          "output_type": "stream",
          "name": "stdout",
          "text": [
            "Metrics for URL: https://insights.blackcoffer.com/coronavirus-impact-on-energy-markets-2/\n",
            "POSITIVE SCORE: 0.026958427815570684\n",
            "NEGATIVE SCORE: -0.026958427815570684\n",
            "POLARITY SCORE: 0.026958427815570684\n",
            "SUBJECTIVITY SCORE: 0.4134610733182162\n",
            "AVG SENTENCE LENGTH: 31.34375\n",
            "PERCENTAGE OF COMPLEX WORDS: 21.784646061814556\n",
            "FOG INDEX: 21.251358424725822\n",
            "AVG NUMBER OF WORDS PER SENTENCE: 31.34375\n",
            "COMPLEX WORD COUNT: 437\n",
            "WORD COUNT: 2006\n",
            "SYLLABLE PER WORD: 1.798604187437687\n",
            "PERSONAL PRONOUNS: 5\n",
            "AVG WORD LENGTH: 4.818544366899302\n",
            "-----------------------\n"
          ]
        },
        {
          "output_type": "stream",
          "name": "stderr",
          "text": [
            "[nltk_data] Downloading package punkt to /root/nltk_data...\n",
            "[nltk_data]   Package punkt is already up-to-date!\n",
            "[nltk_data] Downloading package averaged_perceptron_tagger to\n",
            "[nltk_data]     /root/nltk_data...\n",
            "[nltk_data]   Package averaged_perceptron_tagger is already up-to-\n",
            "[nltk_data]       date!\n",
            "[nltk_data] Downloading package cmudict to /root/nltk_data...\n",
            "[nltk_data]   Package cmudict is already up-to-date!\n"
          ]
        },
        {
          "output_type": "stream",
          "name": "stdout",
          "text": [
            "Metrics for URL: https://insights.blackcoffer.com/coronavirus-impact-on-the-hospitality-industry-5/\n",
            "POSITIVE SCORE: 0.090408891033891\n",
            "NEGATIVE SCORE: -0.090408891033891\n",
            "POLARITY SCORE: 0.090408891033891\n",
            "SUBJECTIVITY SCORE: 0.44031424281424264\n",
            "AVG SENTENCE LENGTH: 21.03846153846154\n",
            "PERCENTAGE OF COMPLEX WORDS: 17.09323583180987\n",
            "FOG INDEX: 15.252678948108565\n",
            "AVG NUMBER OF WORDS PER SENTENCE: 21.03846153846154\n",
            "COMPLEX WORD COUNT: 187\n",
            "WORD COUNT: 1094\n",
            "SYLLABLE PER WORD: 1.6526508226691041\n",
            "PERSONAL PRONOUNS: 17\n",
            "AVG WORD LENGTH: 4.562157221206581\n",
            "-----------------------\n"
          ]
        },
        {
          "output_type": "stream",
          "name": "stderr",
          "text": [
            "[nltk_data] Downloading package punkt to /root/nltk_data...\n",
            "[nltk_data]   Package punkt is already up-to-date!\n",
            "[nltk_data] Downloading package averaged_perceptron_tagger to\n",
            "[nltk_data]     /root/nltk_data...\n",
            "[nltk_data]   Package averaged_perceptron_tagger is already up-to-\n",
            "[nltk_data]       date!\n",
            "[nltk_data] Downloading package cmudict to /root/nltk_data...\n",
            "[nltk_data]   Package cmudict is already up-to-date!\n"
          ]
        },
        {
          "output_type": "stream",
          "name": "stdout",
          "text": [
            "Metrics for URL: https://insights.blackcoffer.com/lessons-from-the-past-some-key-learnings-relevant-to-the-coronavirus-crisis-4/\n",
            "POSITIVE SCORE: 0.11541107352031724\n",
            "NEGATIVE SCORE: -0.11541107352031724\n",
            "POLARITY SCORE: 0.11541107352031724\n",
            "SUBJECTIVITY SCORE: 0.44506220670086244\n",
            "AVG SENTENCE LENGTH: 18.243243243243242\n",
            "PERCENTAGE OF COMPLEX WORDS: 15.333333333333332\n",
            "FOG INDEX: 13.43063063063063\n",
            "AVG NUMBER OF WORDS PER SENTENCE: 18.243243243243242\n",
            "COMPLEX WORD COUNT: 207\n",
            "WORD COUNT: 1350\n",
            "SYLLABLE PER WORD: 1.5666666666666667\n",
            "PERSONAL PRONOUNS: 56\n",
            "AVG WORD LENGTH: 4.417777777777777\n",
            "-----------------------\n"
          ]
        },
        {
          "output_type": "stream",
          "name": "stderr",
          "text": [
            "[nltk_data] Downloading package punkt to /root/nltk_data...\n",
            "[nltk_data]   Package punkt is already up-to-date!\n",
            "[nltk_data] Downloading package averaged_perceptron_tagger to\n",
            "[nltk_data]     /root/nltk_data...\n",
            "[nltk_data]   Package averaged_perceptron_tagger is already up-to-\n",
            "[nltk_data]       date!\n",
            "[nltk_data] Downloading package cmudict to /root/nltk_data...\n",
            "[nltk_data]   Package cmudict is already up-to-date!\n"
          ]
        },
        {
          "output_type": "stream",
          "name": "stdout",
          "text": [
            "Metrics for URL: https://insights.blackcoffer.com/estimating-the-impact-of-covid-19-on-the-world-of-work-2/\n",
            "POSITIVE SCORE: 0.07701032059727714\n",
            "NEGATIVE SCORE: -0.07701032059727714\n",
            "POLARITY SCORE: 0.07701032059727714\n",
            "SUBJECTIVITY SCORE: 0.432465963987703\n",
            "AVG SENTENCE LENGTH: 30.842105263157894\n",
            "PERCENTAGE OF COMPLEX WORDS: 18.686006825938566\n",
            "FOG INDEX: 19.811244835638586\n",
            "AVG NUMBER OF WORDS PER SENTENCE: 30.842105263157894\n",
            "COMPLEX WORD COUNT: 219\n",
            "WORD COUNT: 1172\n",
            "SYLLABLE PER WORD: 1.6860068259385665\n",
            "PERSONAL PRONOUNS: 25\n",
            "AVG WORD LENGTH: 4.724402730375426\n",
            "-----------------------\n"
          ]
        },
        {
          "output_type": "stream",
          "name": "stderr",
          "text": [
            "[nltk_data] Downloading package punkt to /root/nltk_data...\n",
            "[nltk_data]   Package punkt is already up-to-date!\n",
            "[nltk_data] Downloading package averaged_perceptron_tagger to\n",
            "[nltk_data]     /root/nltk_data...\n",
            "[nltk_data]   Package averaged_perceptron_tagger is already up-to-\n",
            "[nltk_data]       date!\n",
            "[nltk_data] Downloading package cmudict to /root/nltk_data...\n",
            "[nltk_data]   Package cmudict is already up-to-date!\n"
          ]
        },
        {
          "output_type": "stream",
          "name": "stdout",
          "text": [
            "Metrics for URL: https://insights.blackcoffer.com/estimating-the-impact-of-covid-19-on-the-world-of-work-3/\n",
            "POSITIVE SCORE: 0.08137906615497077\n",
            "NEGATIVE SCORE: -0.08137906615497077\n",
            "POLARITY SCORE: 0.08137906615497077\n",
            "SUBJECTIVITY SCORE: 0.33247164628743575\n",
            "AVG SENTENCE LENGTH: 24.89830508474576\n",
            "PERCENTAGE OF COMPLEX WORDS: 18.992511912865893\n",
            "FOG INDEX: 17.556326799044662\n",
            "AVG NUMBER OF WORDS PER SENTENCE: 24.89830508474576\n",
            "COMPLEX WORD COUNT: 279\n",
            "WORD COUNT: 1469\n",
            "SYLLABLE PER WORD: 1.7338325391422738\n",
            "PERSONAL PRONOUNS: 8\n",
            "AVG WORD LENGTH: 4.682096664397549\n",
            "-----------------------\n"
          ]
        },
        {
          "output_type": "stream",
          "name": "stderr",
          "text": [
            "[nltk_data] Downloading package punkt to /root/nltk_data...\n",
            "[nltk_data]   Package punkt is already up-to-date!\n",
            "[nltk_data] Downloading package averaged_perceptron_tagger to\n",
            "[nltk_data]     /root/nltk_data...\n",
            "[nltk_data]   Package averaged_perceptron_tagger is already up-to-\n",
            "[nltk_data]       date!\n",
            "[nltk_data] Downloading package cmudict to /root/nltk_data...\n",
            "[nltk_data]   Package cmudict is already up-to-date!\n"
          ]
        },
        {
          "output_type": "stream",
          "name": "stdout",
          "text": [
            "Metrics for URL: https://insights.blackcoffer.com/travel-and-tourism-outlook/\n",
            "POSITIVE SCORE: 0.27325487012987015\n",
            "NEGATIVE SCORE: -0.27325487012987015\n",
            "POLARITY SCORE: 0.27325487012987015\n",
            "SUBJECTIVITY SCORE: 0.42491206709956714\n",
            "AVG SENTENCE LENGTH: 19.09090909090909\n",
            "PERCENTAGE OF COMPLEX WORDS: 12.380952380952381\n",
            "FOG INDEX: 12.58874458874459\n",
            "AVG NUMBER OF WORDS PER SENTENCE: 19.09090909090909\n",
            "COMPLEX WORD COUNT: 26\n",
            "WORD COUNT: 210\n",
            "SYLLABLE PER WORD: 1.4857142857142858\n",
            "PERSONAL PRONOUNS: 11\n",
            "AVG WORD LENGTH: 4.109523809523809\n",
            "-----------------------\n"
          ]
        },
        {
          "output_type": "stream",
          "name": "stderr",
          "text": [
            "[nltk_data] Downloading package punkt to /root/nltk_data...\n",
            "[nltk_data]   Package punkt is already up-to-date!\n",
            "[nltk_data] Downloading package averaged_perceptron_tagger to\n",
            "[nltk_data]     /root/nltk_data...\n",
            "[nltk_data]   Package averaged_perceptron_tagger is already up-to-\n",
            "[nltk_data]       date!\n",
            "[nltk_data] Downloading package cmudict to /root/nltk_data...\n",
            "[nltk_data]   Package cmudict is already up-to-date!\n"
          ]
        },
        {
          "output_type": "stream",
          "name": "stdout",
          "text": [
            "Metrics for URL: https://insights.blackcoffer.com/gaming-disorder-and-effects-of-gaming-on-health/\n",
            "POSITIVE SCORE: 0.061628905514775074\n",
            "NEGATIVE SCORE: -0.061628905514775074\n",
            "POLARITY SCORE: 0.061628905514775074\n",
            "SUBJECTIVITY SCORE: 0.433699181253529\n",
            "AVG SENTENCE LENGTH: 20.65\n",
            "PERCENTAGE OF COMPLEX WORDS: 14.608555286521389\n",
            "FOG INDEX: 14.103422114608556\n",
            "AVG NUMBER OF WORDS PER SENTENCE: 20.65\n",
            "COMPLEX WORD COUNT: 181\n",
            "WORD COUNT: 1239\n",
            "SYLLABLE PER WORD: 1.5552865213882163\n",
            "PERSONAL PRONOUNS: 71\n",
            "AVG WORD LENGTH: 4.378531073446328\n",
            "-----------------------\n"
          ]
        },
        {
          "output_type": "stream",
          "name": "stderr",
          "text": [
            "[nltk_data] Downloading package punkt to /root/nltk_data...\n",
            "[nltk_data]   Package punkt is already up-to-date!\n",
            "[nltk_data] Downloading package averaged_perceptron_tagger to\n",
            "[nltk_data]     /root/nltk_data...\n",
            "[nltk_data]   Package averaged_perceptron_tagger is already up-to-\n",
            "[nltk_data]       date!\n",
            "[nltk_data] Downloading package cmudict to /root/nltk_data...\n",
            "[nltk_data]   Package cmudict is already up-to-date!\n"
          ]
        },
        {
          "output_type": "stream",
          "name": "stdout",
          "text": [
            "Metrics for URL: https://insights.blackcoffer.com/what-is-the-repercussion-of-the-environment-due-to-the-covid-19-pandemic-situation/\n",
            "POSITIVE SCORE: 0.05948027068716724\n",
            "NEGATIVE SCORE: -0.05948027068716724\n",
            "POLARITY SCORE: 0.05948027068716724\n",
            "SUBJECTIVITY SCORE: 0.4058518110242248\n",
            "AVG SENTENCE LENGTH: 20.742857142857144\n",
            "PERCENTAGE OF COMPLEX WORDS: 15.84022038567493\n",
            "FOG INDEX: 14.63323101141283\n",
            "AVG NUMBER OF WORDS PER SENTENCE: 20.742857142857144\n",
            "COMPLEX WORD COUNT: 115\n",
            "WORD COUNT: 726\n",
            "SYLLABLE PER WORD: 1.6473829201101928\n",
            "PERSONAL PRONOUNS: 11\n",
            "AVG WORD LENGTH: 4.479338842975206\n",
            "-----------------------\n"
          ]
        },
        {
          "output_type": "stream",
          "name": "stderr",
          "text": [
            "[nltk_data] Downloading package punkt to /root/nltk_data...\n",
            "[nltk_data]   Package punkt is already up-to-date!\n",
            "[nltk_data] Downloading package averaged_perceptron_tagger to\n",
            "[nltk_data]     /root/nltk_data...\n",
            "[nltk_data]   Package averaged_perceptron_tagger is already up-to-\n",
            "[nltk_data]       date!\n",
            "[nltk_data] Downloading package cmudict to /root/nltk_data...\n",
            "[nltk_data]   Package cmudict is already up-to-date!\n"
          ]
        },
        {
          "output_type": "stream",
          "name": "stdout",
          "text": [
            "Metrics for URL: https://insights.blackcoffer.com/what-is-the-repercussion-of-the-environment-due-to-the-covid-19-pandemic-situation-2/\n",
            "POSITIVE SCORE: 0.05715384749658943\n",
            "NEGATIVE SCORE: -0.05715384749658943\n",
            "POLARITY SCORE: 0.05715384749658943\n",
            "SUBJECTIVITY SCORE: 0.3914643689643688\n",
            "AVG SENTENCE LENGTH: 24.3\n",
            "PERCENTAGE OF COMPLEX WORDS: 21.39917695473251\n",
            "FOG INDEX: 18.279670781893003\n",
            "AVG NUMBER OF WORDS PER SENTENCE: 24.3\n",
            "COMPLEX WORD COUNT: 260\n",
            "WORD COUNT: 1215\n",
            "SYLLABLE PER WORD: 1.7563786008230453\n",
            "PERSONAL PRONOUNS: 5\n",
            "AVG WORD LENGTH: 4.940740740740741\n",
            "-----------------------\n"
          ]
        },
        {
          "output_type": "stream",
          "name": "stderr",
          "text": [
            "[nltk_data] Downloading package punkt to /root/nltk_data...\n",
            "[nltk_data]   Package punkt is already up-to-date!\n",
            "[nltk_data] Downloading package averaged_perceptron_tagger to\n",
            "[nltk_data]     /root/nltk_data...\n",
            "[nltk_data]   Package averaged_perceptron_tagger is already up-to-\n",
            "[nltk_data]       date!\n",
            "[nltk_data] Downloading package cmudict to /root/nltk_data...\n",
            "[nltk_data]   Package cmudict is already up-to-date!\n"
          ]
        },
        {
          "output_type": "stream",
          "name": "stdout",
          "text": [
            "Metrics for URL: https://insights.blackcoffer.com/impact-of-covid-19-pandemic-on-office-space-and-co-working-industries/\n",
            "POSITIVE SCORE: 0.06413482834994465\n",
            "NEGATIVE SCORE: -0.06413482834994465\n",
            "POLARITY SCORE: 0.06413482834994465\n",
            "SUBJECTIVITY SCORE: 0.43600658062867365\n",
            "AVG SENTENCE LENGTH: 31.736842105263158\n",
            "PERCENTAGE OF COMPLEX WORDS: 14.17910447761194\n",
            "FOG INDEX: 18.36637863315004\n",
            "AVG NUMBER OF WORDS PER SENTENCE: 31.736842105263158\n",
            "COMPLEX WORD COUNT: 171\n",
            "WORD COUNT: 1206\n",
            "SYLLABLE PER WORD: 1.5306799336650083\n",
            "PERSONAL PRONOUNS: 33\n",
            "AVG WORD LENGTH: 4.312603648424544\n",
            "-----------------------\n"
          ]
        },
        {
          "output_type": "stream",
          "name": "stderr",
          "text": [
            "[nltk_data] Downloading package punkt to /root/nltk_data...\n",
            "[nltk_data]   Package punkt is already up-to-date!\n",
            "[nltk_data] Downloading package averaged_perceptron_tagger to\n",
            "[nltk_data]     /root/nltk_data...\n",
            "[nltk_data]   Package averaged_perceptron_tagger is already up-to-\n",
            "[nltk_data]       date!\n",
            "[nltk_data] Downloading package cmudict to /root/nltk_data...\n",
            "[nltk_data]   Package cmudict is already up-to-date!\n"
          ]
        },
        {
          "output_type": "stream",
          "name": "stdout",
          "text": [
            "Metrics for URL: https://insights.blackcoffer.com/contribution-of-handicrafts-visual-arts-literature-in-the-indian-economy/\n",
            "POSITIVE SCORE: 0.10395238095238095\n",
            "NEGATIVE SCORE: -0.10395238095238095\n",
            "POLARITY SCORE: 0.10395238095238095\n",
            "SUBJECTIVITY SCORE: 0.4373333333333333\n",
            "AVG SENTENCE LENGTH: 20.681818181818183\n",
            "PERCENTAGE OF COMPLEX WORDS: 24.615384615384617\n",
            "FOG INDEX: 18.11888111888112\n",
            "AVG NUMBER OF WORDS PER SENTENCE: 20.681818181818183\n",
            "COMPLEX WORD COUNT: 112\n",
            "WORD COUNT: 455\n",
            "SYLLABLE PER WORD: 1.7626373626373626\n",
            "PERSONAL PRONOUNS: 4\n",
            "AVG WORD LENGTH: 4.848351648351648\n",
            "-----------------------\n"
          ]
        },
        {
          "output_type": "stream",
          "name": "stderr",
          "text": [
            "[nltk_data] Downloading package punkt to /root/nltk_data...\n",
            "[nltk_data]   Package punkt is already up-to-date!\n",
            "[nltk_data] Downloading package averaged_perceptron_tagger to\n",
            "[nltk_data]     /root/nltk_data...\n",
            "[nltk_data]   Package averaged_perceptron_tagger is already up-to-\n",
            "[nltk_data]       date!\n",
            "[nltk_data] Downloading package cmudict to /root/nltk_data...\n",
            "[nltk_data]   Package cmudict is already up-to-date!\n"
          ]
        },
        {
          "output_type": "stream",
          "name": "stdout",
          "text": [
            "Metrics for URL: https://insights.blackcoffer.com/how-covid-19-is-impacting-payment-preferences/\n",
            "POSITIVE SCORE: 0.09073063973063976\n",
            "NEGATIVE SCORE: -0.09073063973063976\n",
            "POLARITY SCORE: 0.09073063973063976\n",
            "SUBJECTIVITY SCORE: 0.3884276094276094\n",
            "AVG SENTENCE LENGTH: 20.96969696969697\n",
            "PERCENTAGE OF COMPLEX WORDS: 13.583815028901732\n",
            "FOG INDEX: 13.821404799439481\n",
            "AVG NUMBER OF WORDS PER SENTENCE: 20.96969696969697\n",
            "COMPLEX WORD COUNT: 94\n",
            "WORD COUNT: 692\n",
            "SYLLABLE PER WORD: 1.5650289017341041\n",
            "PERSONAL PRONOUNS: 14\n",
            "AVG WORD LENGTH: 4.28757225433526\n",
            "-----------------------\n"
          ]
        },
        {
          "output_type": "stream",
          "name": "stderr",
          "text": [
            "[nltk_data] Downloading package punkt to /root/nltk_data...\n",
            "[nltk_data]   Package punkt is already up-to-date!\n",
            "[nltk_data] Downloading package averaged_perceptron_tagger to\n",
            "[nltk_data]     /root/nltk_data...\n",
            "[nltk_data]   Package averaged_perceptron_tagger is already up-to-\n",
            "[nltk_data]       date!\n",
            "[nltk_data] Downloading package cmudict to /root/nltk_data...\n",
            "[nltk_data]   Package cmudict is already up-to-date!\n"
          ]
        },
        {
          "output_type": "stream",
          "name": "stdout",
          "text": [
            "Metrics for URL: https://insights.blackcoffer.com/how-will-covid-19-affect-the-world-of-work-2/\n",
            "POSITIVE SCORE: 0.08566630591630595\n",
            "NEGATIVE SCORE: -0.08566630591630595\n",
            "POLARITY SCORE: 0.08566630591630595\n",
            "SUBJECTIVITY SCORE: 0.41270382395382393\n",
            "AVG SENTENCE LENGTH: 37.1875\n",
            "PERCENTAGE OF COMPLEX WORDS: 20.084033613445378\n",
            "FOG INDEX: 22.90861344537815\n",
            "AVG NUMBER OF WORDS PER SENTENCE: 37.1875\n",
            "COMPLEX WORD COUNT: 239\n",
            "WORD COUNT: 1190\n",
            "SYLLABLE PER WORD: 1.738655462184874\n",
            "PERSONAL PRONOUNS: 12\n",
            "AVG WORD LENGTH: 4.778991596638655\n",
            "-----------------------\n"
          ]
        },
        {
          "output_type": "stream",
          "name": "stderr",
          "text": [
            "[nltk_data] Downloading package punkt to /root/nltk_data...\n",
            "[nltk_data]   Package punkt is already up-to-date!\n",
            "[nltk_data] Downloading package averaged_perceptron_tagger to\n",
            "[nltk_data]     /root/nltk_data...\n",
            "[nltk_data]   Package averaged_perceptron_tagger is already up-to-\n",
            "[nltk_data]       date!\n",
            "[nltk_data] Downloading package cmudict to /root/nltk_data...\n",
            "[nltk_data]   Package cmudict is already up-to-date!\n"
          ]
        },
        {
          "output_type": "stream",
          "name": "stdout",
          "text": [
            "Metrics for URL: https://insights.blackcoffer.com/lessons-from-the-past-some-key-learnings-relevant-to-the-coronavirus-crisis/\n",
            "POSITIVE SCORE: 0.2563350340136055\n",
            "NEGATIVE SCORE: -0.2563350340136055\n",
            "POLARITY SCORE: 0.2563350340136055\n",
            "SUBJECTIVITY SCORE: 0.5199829931972789\n",
            "AVG SENTENCE LENGTH: 25.741935483870968\n",
            "PERCENTAGE OF COMPLEX WORDS: 9.147869674185463\n",
            "FOG INDEX: 13.955922063222573\n",
            "AVG NUMBER OF WORDS PER SENTENCE: 25.741935483870968\n",
            "COMPLEX WORD COUNT: 73\n",
            "WORD COUNT: 798\n",
            "SYLLABLE PER WORD: 1.382205513784461\n",
            "PERSONAL PRONOUNS: 56\n",
            "AVG WORD LENGTH: 3.8959899749373434\n",
            "-----------------------\n"
          ]
        },
        {
          "output_type": "stream",
          "name": "stderr",
          "text": [
            "[nltk_data] Downloading package punkt to /root/nltk_data...\n",
            "[nltk_data]   Package punkt is already up-to-date!\n",
            "[nltk_data] Downloading package averaged_perceptron_tagger to\n",
            "[nltk_data]     /root/nltk_data...\n",
            "[nltk_data]   Package averaged_perceptron_tagger is already up-to-\n",
            "[nltk_data]       date!\n",
            "[nltk_data] Downloading package cmudict to /root/nltk_data...\n",
            "[nltk_data]   Package cmudict is already up-to-date!\n"
          ]
        },
        {
          "output_type": "stream",
          "name": "stdout",
          "text": [
            "Metrics for URL: https://insights.blackcoffer.com/covid-19-how-have-countries-been-responding/\n",
            "POSITIVE SCORE: 0.04362853371376099\n",
            "NEGATIVE SCORE: -0.04362853371376099\n",
            "POLARITY SCORE: 0.04362853371376099\n",
            "SUBJECTIVITY SCORE: 0.3261895743145744\n",
            "AVG SENTENCE LENGTH: 25.21276595744681\n",
            "PERCENTAGE OF COMPLEX WORDS: 18.9873417721519\n",
            "FOG INDEX: 17.680043091839487\n",
            "AVG NUMBER OF WORDS PER SENTENCE: 25.21276595744681\n",
            "COMPLEX WORD COUNT: 225\n",
            "WORD COUNT: 1185\n",
            "SYLLABLE PER WORD: 1.659071729957806\n",
            "PERSONAL PRONOUNS: 2\n",
            "AVG WORD LENGTH: 4.712236286919831\n",
            "-----------------------\n"
          ]
        },
        {
          "output_type": "stream",
          "name": "stderr",
          "text": [
            "[nltk_data] Downloading package punkt to /root/nltk_data...\n",
            "[nltk_data]   Package punkt is already up-to-date!\n",
            "[nltk_data] Downloading package averaged_perceptron_tagger to\n",
            "[nltk_data]     /root/nltk_data...\n",
            "[nltk_data]   Package averaged_perceptron_tagger is already up-to-\n",
            "[nltk_data]       date!\n",
            "[nltk_data] Downloading package cmudict to /root/nltk_data...\n",
            "[nltk_data]   Package cmudict is already up-to-date!\n"
          ]
        },
        {
          "output_type": "stream",
          "name": "stdout",
          "text": [
            "Metrics for URL: https://insights.blackcoffer.com/coronavirus-impact-on-the-hospitality-industry-2/\n",
            "POSITIVE SCORE: 0.05916069710712567\n",
            "NEGATIVE SCORE: -0.05916069710712567\n",
            "POLARITY SCORE: 0.05916069710712567\n",
            "SUBJECTIVITY SCORE: 0.46500592661306944\n",
            "AVG SENTENCE LENGTH: 22.192307692307693\n",
            "PERCENTAGE OF COMPLEX WORDS: 19.49740034662045\n",
            "FOG INDEX: 16.675883215571258\n",
            "AVG NUMBER OF WORDS PER SENTENCE: 22.192307692307693\n",
            "COMPLEX WORD COUNT: 225\n",
            "WORD COUNT: 1154\n",
            "SYLLABLE PER WORD: 1.6932409012131715\n",
            "PERSONAL PRONOUNS: 21\n",
            "AVG WORD LENGTH: 4.818890814558059\n",
            "-----------------------\n"
          ]
        },
        {
          "output_type": "stream",
          "name": "stderr",
          "text": [
            "[nltk_data] Downloading package punkt to /root/nltk_data...\n",
            "[nltk_data]   Package punkt is already up-to-date!\n",
            "[nltk_data] Downloading package averaged_perceptron_tagger to\n",
            "[nltk_data]     /root/nltk_data...\n",
            "[nltk_data]   Package averaged_perceptron_tagger is already up-to-\n",
            "[nltk_data]       date!\n",
            "[nltk_data] Downloading package cmudict to /root/nltk_data...\n",
            "[nltk_data]   Package cmudict is already up-to-date!\n"
          ]
        },
        {
          "output_type": "stream",
          "name": "stdout",
          "text": [
            "Metrics for URL: https://insights.blackcoffer.com/how-will-covid-19-affect-the-world-of-work-3/\n",
            "POSITIVE SCORE: 0.11332926332926331\n",
            "NEGATIVE SCORE: -0.11332926332926331\n",
            "POLARITY SCORE: 0.11332926332926331\n",
            "SUBJECTIVITY SCORE: 0.4287342287342288\n",
            "AVG SENTENCE LENGTH: 21.867924528301888\n",
            "PERCENTAGE OF COMPLEX WORDS: 18.809318377911993\n",
            "FOG INDEX: 16.27089716248555\n",
            "AVG NUMBER OF WORDS PER SENTENCE: 21.867924528301888\n",
            "COMPLEX WORD COUNT: 218\n",
            "WORD COUNT: 1159\n",
            "SYLLABLE PER WORD: 1.723899913718723\n",
            "PERSONAL PRONOUNS: 11\n",
            "AVG WORD LENGTH: 4.7989646246764455\n",
            "-----------------------\n"
          ]
        },
        {
          "output_type": "stream",
          "name": "stderr",
          "text": [
            "[nltk_data] Downloading package punkt to /root/nltk_data...\n",
            "[nltk_data]   Package punkt is already up-to-date!\n",
            "[nltk_data] Downloading package averaged_perceptron_tagger to\n",
            "[nltk_data]     /root/nltk_data...\n",
            "[nltk_data]   Package averaged_perceptron_tagger is already up-to-\n",
            "[nltk_data]       date!\n",
            "[nltk_data] Downloading package cmudict to /root/nltk_data...\n",
            "[nltk_data]   Package cmudict is already up-to-date!\n"
          ]
        },
        {
          "output_type": "stream",
          "name": "stdout",
          "text": [
            "Metrics for URL: https://insights.blackcoffer.com/coronavirus-impact-on-the-hospitality-industry-3/\n",
            "POSITIVE SCORE: 0.055118301238990905\n",
            "NEGATIVE SCORE: -0.055118301238990905\n",
            "POLARITY SCORE: 0.055118301238990905\n",
            "SUBJECTIVITY SCORE: 0.3846937353833905\n",
            "AVG SENTENCE LENGTH: 26.163636363636364\n",
            "PERCENTAGE OF COMPLEX WORDS: 18.207088255733147\n",
            "FOG INDEX: 17.748289847747806\n",
            "AVG NUMBER OF WORDS PER SENTENCE: 26.163636363636364\n",
            "COMPLEX WORD COUNT: 262\n",
            "WORD COUNT: 1439\n",
            "SYLLABLE PER WORD: 1.6671299513551077\n",
            "PERSONAL PRONOUNS: 21\n",
            "AVG WORD LENGTH: 4.531619179986102\n",
            "-----------------------\n"
          ]
        },
        {
          "output_type": "stream",
          "name": "stderr",
          "text": [
            "[nltk_data] Downloading package punkt to /root/nltk_data...\n",
            "[nltk_data]   Package punkt is already up-to-date!\n",
            "[nltk_data] Downloading package averaged_perceptron_tagger to\n",
            "[nltk_data]     /root/nltk_data...\n",
            "[nltk_data]   Package averaged_perceptron_tagger is already up-to-\n",
            "[nltk_data]       date!\n",
            "[nltk_data] Downloading package cmudict to /root/nltk_data...\n",
            "[nltk_data]   Package cmudict is already up-to-date!\n"
          ]
        },
        {
          "output_type": "stream",
          "name": "stdout",
          "text": [
            "Metrics for URL: https://insights.blackcoffer.com/estimating-the-impact-of-covid-19-on-the-world-of-work/\n",
            "POSITIVE SCORE: 0.0319966530383197\n",
            "NEGATIVE SCORE: -0.0319966530383197\n",
            "POLARITY SCORE: 0.0319966530383197\n",
            "SUBJECTIVITY SCORE: 0.4734675875821709\n",
            "AVG SENTENCE LENGTH: 24.7\n",
            "PERCENTAGE OF COMPLEX WORDS: 16.136495083863505\n",
            "FOG INDEX: 16.3345980335454\n",
            "AVG NUMBER OF WORDS PER SENTENCE: 24.7\n",
            "COMPLEX WORD COUNT: 279\n",
            "WORD COUNT: 1729\n",
            "SYLLABLE PER WORD: 1.5945633314054366\n",
            "PERSONAL PRONOUNS: 24\n",
            "AVG WORD LENGTH: 4.484094852515905\n",
            "-----------------------\n"
          ]
        },
        {
          "output_type": "stream",
          "name": "stderr",
          "text": [
            "[nltk_data] Downloading package punkt to /root/nltk_data...\n",
            "[nltk_data]   Package punkt is already up-to-date!\n",
            "[nltk_data] Downloading package averaged_perceptron_tagger to\n",
            "[nltk_data]     /root/nltk_data...\n",
            "[nltk_data]   Package averaged_perceptron_tagger is already up-to-\n",
            "[nltk_data]       date!\n",
            "[nltk_data] Downloading package cmudict to /root/nltk_data...\n",
            "[nltk_data]   Package cmudict is already up-to-date!\n"
          ]
        },
        {
          "output_type": "stream",
          "name": "stdout",
          "text": [
            "Metrics for URL: https://insights.blackcoffer.com/covid-19-how-have-countries-been-responding-2/\n",
            "POSITIVE SCORE: -0.01497857845202978\n",
            "NEGATIVE SCORE: 0.01497857845202978\n",
            "POLARITY SCORE: -0.01497857845202978\n",
            "SUBJECTIVITY SCORE: 0.3716315493749122\n",
            "AVG SENTENCE LENGTH: 26.55263157894737\n",
            "PERCENTAGE OF COMPLEX WORDS: 19.672943508424183\n",
            "FOG INDEX: 18.49023003494862\n",
            "AVG NUMBER OF WORDS PER SENTENCE: 26.55263157894737\n",
            "COMPLEX WORD COUNT: 397\n",
            "WORD COUNT: 2018\n",
            "SYLLABLE PER WORD: 1.7031714568880079\n",
            "PERSONAL PRONOUNS: 23\n",
            "AVG WORD LENGTH: 4.655599603567889\n",
            "-----------------------\n"
          ]
        },
        {
          "output_type": "stream",
          "name": "stderr",
          "text": [
            "[nltk_data] Downloading package punkt to /root/nltk_data...\n",
            "[nltk_data]   Package punkt is already up-to-date!\n",
            "[nltk_data] Downloading package averaged_perceptron_tagger to\n",
            "[nltk_data]     /root/nltk_data...\n",
            "[nltk_data]   Package averaged_perceptron_tagger is already up-to-\n",
            "[nltk_data]       date!\n",
            "[nltk_data] Downloading package cmudict to /root/nltk_data...\n",
            "[nltk_data]   Package cmudict is already up-to-date!\n"
          ]
        },
        {
          "output_type": "stream",
          "name": "stdout",
          "text": [
            "Metrics for URL: https://insights.blackcoffer.com/how-will-covid-19-affect-the-world-of-work-4/\n",
            "POSITIVE SCORE: 0.06827476150392814\n",
            "NEGATIVE SCORE: -0.06827476150392814\n",
            "POLARITY SCORE: 0.06827476150392814\n",
            "SUBJECTIVITY SCORE: 0.4795216550424884\n",
            "AVG SENTENCE LENGTH: 83.0909090909091\n",
            "PERCENTAGE OF COMPLEX WORDS: 10.284463894967178\n",
            "FOG INDEX: 37.35014919435051\n",
            "AVG NUMBER OF WORDS PER SENTENCE: 83.0909090909091\n",
            "COMPLEX WORD COUNT: 94\n",
            "WORD COUNT: 914\n",
            "SYLLABLE PER WORD: 1.4682713347921226\n",
            "PERSONAL PRONOUNS: 70\n",
            "AVG WORD LENGTH: 4.152078774617068\n",
            "-----------------------\n"
          ]
        },
        {
          "output_type": "stream",
          "name": "stderr",
          "text": [
            "[nltk_data] Downloading package punkt to /root/nltk_data...\n",
            "[nltk_data]   Package punkt is already up-to-date!\n",
            "[nltk_data] Downloading package averaged_perceptron_tagger to\n",
            "[nltk_data]     /root/nltk_data...\n",
            "[nltk_data]   Package averaged_perceptron_tagger is already up-to-\n",
            "[nltk_data]       date!\n",
            "[nltk_data] Downloading package cmudict to /root/nltk_data...\n",
            "[nltk_data]   Package cmudict is already up-to-date!\n"
          ]
        },
        {
          "output_type": "stream",
          "name": "stdout",
          "text": [
            "Metrics for URL: https://insights.blackcoffer.com/lessons-from-the-past-some-key-learnings-relevant-to-the-coronavirus-crisis-2/\n",
            "POSITIVE SCORE: 0.06841704718417045\n",
            "NEGATIVE SCORE: -0.06841704718417045\n",
            "POLARITY SCORE: 0.06841704718417045\n",
            "SUBJECTIVITY SCORE: 0.4353681959846343\n",
            "AVG SENTENCE LENGTH: 29.77027027027027\n",
            "PERCENTAGE OF COMPLEX WORDS: 18.202451202905127\n",
            "FOG INDEX: 19.18908858927016\n",
            "AVG NUMBER OF WORDS PER SENTENCE: 29.77027027027027\n",
            "COMPLEX WORD COUNT: 401\n",
            "WORD COUNT: 2203\n",
            "SYLLABLE PER WORD: 1.7094870630957786\n",
            "PERSONAL PRONOUNS: 24\n",
            "AVG WORD LENGTH: 4.7893781207444395\n",
            "-----------------------\n"
          ]
        },
        {
          "output_type": "stream",
          "name": "stderr",
          "text": [
            "[nltk_data] Downloading package punkt to /root/nltk_data...\n",
            "[nltk_data]   Package punkt is already up-to-date!\n",
            "[nltk_data] Downloading package averaged_perceptron_tagger to\n",
            "[nltk_data]     /root/nltk_data...\n",
            "[nltk_data]   Package averaged_perceptron_tagger is already up-to-\n",
            "[nltk_data]       date!\n",
            "[nltk_data] Downloading package cmudict to /root/nltk_data...\n",
            "[nltk_data]   Package cmudict is already up-to-date!\n"
          ]
        },
        {
          "output_type": "stream",
          "name": "stdout",
          "text": [
            "Metrics for URL: https://insights.blackcoffer.com/lessons-from-the-past-some-key-learnings-relevant-to-the-coronavirus-crisis-3/\n",
            "POSITIVE SCORE: 0.11091131836098277\n",
            "NEGATIVE SCORE: -0.11091131836098277\n",
            "POLARITY SCORE: 0.11091131836098277\n",
            "SUBJECTIVITY SCORE: 0.49728972742395555\n",
            "AVG SENTENCE LENGTH: 17.825\n",
            "PERCENTAGE OF COMPLEX WORDS: 10.448807854137447\n",
            "FOG INDEX: 11.309523141654978\n",
            "AVG NUMBER OF WORDS PER SENTENCE: 17.825\n",
            "COMPLEX WORD COUNT: 149\n",
            "WORD COUNT: 1426\n",
            "SYLLABLE PER WORD: 1.4572230014025245\n",
            "PERSONAL PRONOUNS: 49\n",
            "AVG WORD LENGTH: 4.132538569424965\n",
            "-----------------------\n"
          ]
        },
        {
          "output_type": "stream",
          "name": "stderr",
          "text": [
            "[nltk_data] Downloading package punkt to /root/nltk_data...\n",
            "[nltk_data]   Package punkt is already up-to-date!\n",
            "[nltk_data] Downloading package averaged_perceptron_tagger to\n",
            "[nltk_data]     /root/nltk_data...\n",
            "[nltk_data]   Package averaged_perceptron_tagger is already up-to-\n",
            "[nltk_data]       date!\n",
            "[nltk_data] Downloading package cmudict to /root/nltk_data...\n",
            "[nltk_data]   Package cmudict is already up-to-date!\n"
          ]
        },
        {
          "output_type": "stream",
          "name": "stdout",
          "text": [
            "Metrics for URL: https://insights.blackcoffer.com/coronavirus-impact-on-the-hospitality-industry-4/\n",
            "POSITIVE SCORE: 0.07287296037296037\n",
            "NEGATIVE SCORE: -0.07287296037296037\n",
            "POLARITY SCORE: 0.07287296037296037\n",
            "SUBJECTIVITY SCORE: 0.4607517482517482\n",
            "AVG SENTENCE LENGTH: 23.875\n",
            "PERCENTAGE OF COMPLEX WORDS: 24.60732984293194\n",
            "FOG INDEX: 19.392931937172776\n",
            "AVG NUMBER OF WORDS PER SENTENCE: 23.875\n",
            "COMPLEX WORD COUNT: 94\n",
            "WORD COUNT: 382\n",
            "SYLLABLE PER WORD: 1.861256544502618\n",
            "PERSONAL PRONOUNS: 2\n",
            "AVG WORD LENGTH: 4.93717277486911\n",
            "-----------------------\n"
          ]
        },
        {
          "output_type": "stream",
          "name": "stderr",
          "text": [
            "[nltk_data] Downloading package punkt to /root/nltk_data...\n",
            "[nltk_data]   Package punkt is already up-to-date!\n",
            "[nltk_data] Downloading package averaged_perceptron_tagger to\n",
            "[nltk_data]     /root/nltk_data...\n",
            "[nltk_data]   Package averaged_perceptron_tagger is already up-to-\n",
            "[nltk_data]       date!\n",
            "[nltk_data] Downloading package cmudict to /root/nltk_data...\n",
            "[nltk_data]   Package cmudict is already up-to-date!\n"
          ]
        },
        {
          "output_type": "stream",
          "name": "stdout",
          "text": [
            "Metrics for URL: https://insights.blackcoffer.com/why-scams-like-nirav-modi-happen-with-indian-banks/\n",
            "POSITIVE SCORE: 0.02910643299352978\n",
            "NEGATIVE SCORE: -0.02910643299352978\n",
            "POLARITY SCORE: 0.02910643299352978\n",
            "SUBJECTIVITY SCORE: 0.3307033002839456\n",
            "AVG SENTENCE LENGTH: 27.136363636363637\n",
            "PERCENTAGE OF COMPLEX WORDS: 19.68174204355109\n",
            "FOG INDEX: 18.72724227196589\n",
            "AVG NUMBER OF WORDS PER SENTENCE: 27.136363636363637\n",
            "COMPLEX WORD COUNT: 470\n",
            "WORD COUNT: 2388\n",
            "SYLLABLE PER WORD: 1.7056113902847572\n",
            "PERSONAL PRONOUNS: 23\n",
            "AVG WORD LENGTH: 4.793132328308208\n",
            "-----------------------\n"
          ]
        },
        {
          "output_type": "stream",
          "name": "stderr",
          "text": [
            "[nltk_data] Downloading package punkt to /root/nltk_data...\n",
            "[nltk_data]   Package punkt is already up-to-date!\n",
            "[nltk_data] Downloading package averaged_perceptron_tagger to\n",
            "[nltk_data]     /root/nltk_data...\n",
            "[nltk_data]   Package averaged_perceptron_tagger is already up-to-\n",
            "[nltk_data]       date!\n",
            "[nltk_data] Downloading package cmudict to /root/nltk_data...\n",
            "[nltk_data]   Package cmudict is already up-to-date!\n"
          ]
        },
        {
          "output_type": "stream",
          "name": "stdout",
          "text": [
            "Metrics for URL: https://insights.blackcoffer.com/impact-of-covid-19-on-the-global-economy/\n",
            "POSITIVE SCORE: 0.0954523036487322\n",
            "NEGATIVE SCORE: -0.0954523036487322\n",
            "POLARITY SCORE: 0.0954523036487322\n",
            "SUBJECTIVITY SCORE: 0.47803019995877105\n",
            "AVG SENTENCE LENGTH: 26.984375\n",
            "PERCENTAGE OF COMPLEX WORDS: 11.11754487550666\n",
            "FOG INDEX: 15.240767950202665\n",
            "AVG NUMBER OF WORDS PER SENTENCE: 26.984375\n",
            "COMPLEX WORD COUNT: 192\n",
            "WORD COUNT: 1727\n",
            "SYLLABLE PER WORD: 1.4528083381586567\n",
            "PERSONAL PRONOUNS: 96\n",
            "AVG WORD LENGTH: 4.225825130283729\n",
            "-----------------------\n"
          ]
        },
        {
          "output_type": "stream",
          "name": "stderr",
          "text": [
            "[nltk_data] Downloading package punkt to /root/nltk_data...\n",
            "[nltk_data]   Package punkt is already up-to-date!\n",
            "[nltk_data] Downloading package averaged_perceptron_tagger to\n",
            "[nltk_data]     /root/nltk_data...\n",
            "[nltk_data]   Package averaged_perceptron_tagger is already up-to-\n",
            "[nltk_data]       date!\n",
            "[nltk_data] Downloading package cmudict to /root/nltk_data...\n",
            "[nltk_data]   Package cmudict is already up-to-date!\n"
          ]
        },
        {
          "output_type": "stream",
          "name": "stdout",
          "text": [
            "Metrics for URL: https://insights.blackcoffer.com/impact-of-covid-19coronavirus-on-the-indian-economy-2/\n",
            "POSITIVE SCORE: 0.07181054675917688\n",
            "NEGATIVE SCORE: -0.07181054675917688\n",
            "POLARITY SCORE: 0.07181054675917688\n",
            "SUBJECTIVITY SCORE: 0.433382405265967\n",
            "AVG SENTENCE LENGTH: 22.930232558139537\n",
            "PERCENTAGE OF COMPLEX WORDS: 17.13995943204868\n",
            "FOG INDEX: 16.02807679607529\n",
            "AVG NUMBER OF WORDS PER SENTENCE: 22.930232558139537\n",
            "COMPLEX WORD COUNT: 338\n",
            "WORD COUNT: 1972\n",
            "SYLLABLE PER WORD: 1.644523326572008\n",
            "PERSONAL PRONOUNS: 39\n",
            "AVG WORD LENGTH: 4.463488843813387\n",
            "-----------------------\n"
          ]
        },
        {
          "output_type": "stream",
          "name": "stderr",
          "text": [
            "[nltk_data] Downloading package punkt to /root/nltk_data...\n",
            "[nltk_data]   Package punkt is already up-to-date!\n",
            "[nltk_data] Downloading package averaged_perceptron_tagger to\n",
            "[nltk_data]     /root/nltk_data...\n",
            "[nltk_data]   Package averaged_perceptron_tagger is already up-to-\n",
            "[nltk_data]       date!\n",
            "[nltk_data] Downloading package cmudict to /root/nltk_data...\n",
            "[nltk_data]   Package cmudict is already up-to-date!\n"
          ]
        },
        {
          "output_type": "stream",
          "name": "stdout",
          "text": [
            "Metrics for URL: https://insights.blackcoffer.com/impact-of-covid-19-on-the-global-economy-2/\n",
            "POSITIVE SCORE: 0.10608027311441948\n",
            "NEGATIVE SCORE: -0.10608027311441948\n",
            "POLARITY SCORE: 0.10608027311441948\n",
            "SUBJECTIVITY SCORE: 0.4375210902918223\n",
            "AVG SENTENCE LENGTH: 26.866666666666667\n",
            "PERCENTAGE OF COMPLEX WORDS: 16.575682382133994\n",
            "FOG INDEX: 17.376939619520268\n",
            "AVG NUMBER OF WORDS PER SENTENCE: 26.866666666666667\n",
            "COMPLEX WORD COUNT: 334\n",
            "WORD COUNT: 2015\n",
            "SYLLABLE PER WORD: 1.632258064516129\n",
            "PERSONAL PRONOUNS: 37\n",
            "AVG WORD LENGTH: 4.595037220843673\n",
            "-----------------------\n"
          ]
        },
        {
          "output_type": "stream",
          "name": "stderr",
          "text": [
            "[nltk_data] Downloading package punkt to /root/nltk_data...\n",
            "[nltk_data]   Package punkt is already up-to-date!\n",
            "[nltk_data] Downloading package averaged_perceptron_tagger to\n",
            "[nltk_data]     /root/nltk_data...\n",
            "[nltk_data]   Package averaged_perceptron_tagger is already up-to-\n",
            "[nltk_data]       date!\n",
            "[nltk_data] Downloading package cmudict to /root/nltk_data...\n",
            "[nltk_data]   Package cmudict is already up-to-date!\n"
          ]
        },
        {
          "output_type": "stream",
          "name": "stdout",
          "text": [
            "Metrics for URL: https://insights.blackcoffer.com/impact-of-covid-19-coronavirus-on-the-indian-economy-3/\n",
            "POSITIVE SCORE: 0.0809295851207616\n",
            "NEGATIVE SCORE: -0.0809295851207616\n",
            "POLARITY SCORE: 0.0809295851207616\n",
            "SUBJECTIVITY SCORE: 0.3950731376466672\n",
            "AVG SENTENCE LENGTH: 28.897435897435898\n",
            "PERCENTAGE OF COMPLEX WORDS: 21.251109139307896\n",
            "FOG INDEX: 20.05941801469752\n",
            "AVG NUMBER OF WORDS PER SENTENCE: 28.897435897435898\n",
            "COMPLEX WORD COUNT: 479\n",
            "WORD COUNT: 2254\n",
            "SYLLABLE PER WORD: 1.758651286601597\n",
            "PERSONAL PRONOUNS: 21\n",
            "AVG WORD LENGTH: 4.82564330079858\n",
            "-----------------------\n"
          ]
        },
        {
          "output_type": "stream",
          "name": "stderr",
          "text": [
            "[nltk_data] Downloading package punkt to /root/nltk_data...\n",
            "[nltk_data]   Package punkt is already up-to-date!\n",
            "[nltk_data] Downloading package averaged_perceptron_tagger to\n",
            "[nltk_data]     /root/nltk_data...\n",
            "[nltk_data]   Package averaged_perceptron_tagger is already up-to-\n",
            "[nltk_data]       date!\n",
            "[nltk_data] Downloading package cmudict to /root/nltk_data...\n",
            "[nltk_data]   Package cmudict is already up-to-date!\n"
          ]
        },
        {
          "output_type": "stream",
          "name": "stdout",
          "text": [
            "Metrics for URL: https://insights.blackcoffer.com/should-celebrities-be-allowed-to-join-politics/\n",
            "POSITIVE SCORE: 0.13463349713349712\n",
            "NEGATIVE SCORE: -0.13463349713349712\n",
            "POLARITY SCORE: 0.13463349713349712\n",
            "SUBJECTIVITY SCORE: 0.37925514800514815\n",
            "AVG SENTENCE LENGTH: 32.296875\n",
            "PERCENTAGE OF COMPLEX WORDS: 19.835510401548138\n",
            "FOG INDEX: 20.852954160619255\n",
            "AVG NUMBER OF WORDS PER SENTENCE: 32.296875\n",
            "COMPLEX WORD COUNT: 410\n",
            "WORD COUNT: 2067\n",
            "SYLLABLE PER WORD: 1.7247218190614417\n",
            "PERSONAL PRONOUNS: 52\n",
            "AVG WORD LENGTH: 4.700532172230285\n",
            "-----------------------\n"
          ]
        },
        {
          "output_type": "stream",
          "name": "stderr",
          "text": [
            "[nltk_data] Downloading package punkt to /root/nltk_data...\n",
            "[nltk_data]   Package punkt is already up-to-date!\n",
            "[nltk_data] Downloading package averaged_perceptron_tagger to\n",
            "[nltk_data]     /root/nltk_data...\n",
            "[nltk_data]   Package averaged_perceptron_tagger is already up-to-\n",
            "[nltk_data]       date!\n",
            "[nltk_data] Downloading package cmudict to /root/nltk_data...\n",
            "[nltk_data]   Package cmudict is already up-to-date!\n"
          ]
        },
        {
          "output_type": "stream",
          "name": "stdout",
          "text": [
            "Metrics for URL: https://insights.blackcoffer.com/how-prepared-is-india-to-tackle-a-possible-covid-19-outbreak/\n",
            "POSITIVE SCORE: 0.052994633331711984\n",
            "NEGATIVE SCORE: -0.052994633331711984\n",
            "POLARITY SCORE: 0.052994633331711984\n",
            "SUBJECTIVITY SCORE: 0.39133226324237563\n",
            "AVG SENTENCE LENGTH: 28.78787878787879\n",
            "PERCENTAGE OF COMPLEX WORDS: 17.473684210526315\n",
            "FOG INDEX: 18.504625199362042\n",
            "AVG NUMBER OF WORDS PER SENTENCE: 28.78787878787879\n",
            "COMPLEX WORD COUNT: 166\n",
            "WORD COUNT: 950\n",
            "SYLLABLE PER WORD: 1.674736842105263\n",
            "PERSONAL PRONOUNS: 16\n",
            "AVG WORD LENGTH: 4.583157894736842\n",
            "-----------------------\n"
          ]
        },
        {
          "output_type": "stream",
          "name": "stderr",
          "text": [
            "[nltk_data] Downloading package punkt to /root/nltk_data...\n",
            "[nltk_data]   Package punkt is already up-to-date!\n",
            "[nltk_data] Downloading package averaged_perceptron_tagger to\n",
            "[nltk_data]     /root/nltk_data...\n",
            "[nltk_data]   Package averaged_perceptron_tagger is already up-to-\n",
            "[nltk_data]       date!\n",
            "[nltk_data] Downloading package cmudict to /root/nltk_data...\n",
            "[nltk_data]   Package cmudict is already up-to-date!\n"
          ]
        },
        {
          "output_type": "stream",
          "name": "stdout",
          "text": [
            "Metrics for URL: https://insights.blackcoffer.com/how-will-covid-19-affect-the-world-of-work/\n",
            "POSITIVE SCORE: 0.028909245516388384\n",
            "NEGATIVE SCORE: -0.028909245516388384\n",
            "POLARITY SCORE: 0.028909245516388384\n",
            "SUBJECTIVITY SCORE: 0.4445098948670377\n",
            "AVG SENTENCE LENGTH: 25.82857142857143\n",
            "PERCENTAGE OF COMPLEX WORDS: 18.086283185840706\n",
            "FOG INDEX: 17.565941845764854\n",
            "AVG NUMBER OF WORDS PER SENTENCE: 25.82857142857143\n",
            "COMPLEX WORD COUNT: 327\n",
            "WORD COUNT: 1808\n",
            "SYLLABLE PER WORD: 1.7123893805309736\n",
            "PERSONAL PRONOUNS: 23\n",
            "AVG WORD LENGTH: 4.7472345132743365\n",
            "-----------------------\n"
          ]
        },
        {
          "output_type": "stream",
          "name": "stderr",
          "text": [
            "[nltk_data] Downloading package punkt to /root/nltk_data...\n",
            "[nltk_data]   Package punkt is already up-to-date!\n",
            "[nltk_data] Downloading package averaged_perceptron_tagger to\n",
            "[nltk_data]     /root/nltk_data...\n",
            "[nltk_data]   Package averaged_perceptron_tagger is already up-to-\n",
            "[nltk_data]       date!\n",
            "[nltk_data] Downloading package cmudict to /root/nltk_data...\n",
            "[nltk_data]   Package cmudict is already up-to-date!\n"
          ]
        },
        {
          "output_type": "stream",
          "name": "stdout",
          "text": [
            "Metrics for URL: https://insights.blackcoffer.com/controversy-as-a-marketing-strategy/\n",
            "POSITIVE SCORE: 0.19528344671201814\n",
            "NEGATIVE SCORE: -0.19528344671201814\n",
            "POLARITY SCORE: 0.19528344671201814\n",
            "SUBJECTIVITY SCORE: 0.5416213151927438\n",
            "AVG SENTENCE LENGTH: 18.918032786885245\n",
            "PERCENTAGE OF COMPLEX WORDS: 14.038128249566725\n",
            "FOG INDEX: 13.18246441458079\n",
            "AVG NUMBER OF WORDS PER SENTENCE: 18.918032786885245\n",
            "COMPLEX WORD COUNT: 162\n",
            "WORD COUNT: 1154\n",
            "SYLLABLE PER WORD: 1.5450606585788562\n",
            "PERSONAL PRONOUNS: 25\n",
            "AVG WORD LENGTH: 4.308492201039861\n",
            "-----------------------\n"
          ]
        },
        {
          "output_type": "stream",
          "name": "stderr",
          "text": [
            "[nltk_data] Downloading package punkt to /root/nltk_data...\n",
            "[nltk_data]   Package punkt is already up-to-date!\n",
            "[nltk_data] Downloading package averaged_perceptron_tagger to\n",
            "[nltk_data]     /root/nltk_data...\n",
            "[nltk_data]   Package averaged_perceptron_tagger is already up-to-\n",
            "[nltk_data]       date!\n",
            "[nltk_data] Downloading package cmudict to /root/nltk_data...\n",
            "[nltk_data]   Package cmudict is already up-to-date!\n"
          ]
        },
        {
          "output_type": "stream",
          "name": "stdout",
          "text": [
            "Metrics for URL: https://insights.blackcoffer.com/coronavirus-impact-on-the-hospitality-industry/\n",
            "POSITIVE SCORE: 0.07825260325260323\n",
            "NEGATIVE SCORE: -0.07825260325260323\n",
            "POLARITY SCORE: 0.07825260325260323\n",
            "SUBJECTIVITY SCORE: 0.4364506552006552\n",
            "AVG SENTENCE LENGTH: 24.405405405405407\n",
            "PERCENTAGE OF COMPLEX WORDS: 21.040974529346624\n",
            "FOG INDEX: 18.178551973900813\n",
            "AVG NUMBER OF WORDS PER SENTENCE: 24.405405405405407\n",
            "COMPLEX WORD COUNT: 190\n",
            "WORD COUNT: 903\n",
            "SYLLABLE PER WORD: 1.7851605758582503\n",
            "PERSONAL PRONOUNS: 1\n",
            "AVG WORD LENGTH: 4.827242524916944\n",
            "-----------------------\n"
          ]
        },
        {
          "output_type": "stream",
          "name": "stderr",
          "text": [
            "[nltk_data] Downloading package punkt to /root/nltk_data...\n",
            "[nltk_data]   Package punkt is already up-to-date!\n",
            "[nltk_data] Downloading package averaged_perceptron_tagger to\n",
            "[nltk_data]     /root/nltk_data...\n",
            "[nltk_data]   Package averaged_perceptron_tagger is already up-to-\n",
            "[nltk_data]       date!\n",
            "[nltk_data] Downloading package cmudict to /root/nltk_data...\n",
            "[nltk_data]   Package cmudict is already up-to-date!\n"
          ]
        },
        {
          "output_type": "stream",
          "name": "stdout",
          "text": [
            "Metrics for URL: https://insights.blackcoffer.com/coronavirus-impact-on-energy-markets/\n",
            "POSITIVE SCORE: 0.012447786131996654\n",
            "NEGATIVE SCORE: -0.012447786131996654\n",
            "POLARITY SCORE: 0.012447786131996654\n",
            "SUBJECTIVITY SCORE: 0.3775271512113617\n",
            "AVG SENTENCE LENGTH: 37.74\n",
            "PERCENTAGE OF COMPLEX WORDS: 17.382087970323266\n",
            "FOG INDEX: 22.048835188129306\n",
            "AVG NUMBER OF WORDS PER SENTENCE: 37.74\n",
            "COMPLEX WORD COUNT: 328\n",
            "WORD COUNT: 1887\n",
            "SYLLABLE PER WORD: 1.7201907790143085\n",
            "PERSONAL PRONOUNS: 7\n",
            "AVG WORD LENGTH: 4.7270800211976685\n",
            "-----------------------\n"
          ]
        },
        {
          "output_type": "stream",
          "name": "stderr",
          "text": [
            "[nltk_data] Downloading package punkt to /root/nltk_data...\n",
            "[nltk_data]   Package punkt is already up-to-date!\n",
            "[nltk_data] Downloading package averaged_perceptron_tagger to\n",
            "[nltk_data]     /root/nltk_data...\n",
            "[nltk_data]   Package averaged_perceptron_tagger is already up-to-\n",
            "[nltk_data]       date!\n",
            "[nltk_data] Downloading package cmudict to /root/nltk_data...\n",
            "[nltk_data]   Package cmudict is already up-to-date!\n"
          ]
        },
        {
          "output_type": "stream",
          "name": "stdout",
          "text": [
            "Metrics for URL: https://insights.blackcoffer.com/what-are-the-key-policies-that-will-mitigate-the-impacts-of-covid-19-on-the-world-of-work/\n",
            "POSITIVE SCORE: 0.1337564419707276\n",
            "NEGATIVE SCORE: -0.1337564419707276\n",
            "POLARITY SCORE: 0.1337564419707276\n",
            "SUBJECTIVITY SCORE: 0.45195810307417456\n",
            "AVG SENTENCE LENGTH: 28.014285714285716\n",
            "PERCENTAGE OF COMPLEX WORDS: 19.88781234064253\n",
            "FOG INDEX: 19.160839221971298\n",
            "AVG NUMBER OF WORDS PER SENTENCE: 28.014285714285716\n",
            "COMPLEX WORD COUNT: 390\n",
            "WORD COUNT: 1961\n",
            "SYLLABLE PER WORD: 1.706272310045895\n",
            "PERSONAL PRONOUNS: 36\n",
            "AVG WORD LENGTH: 4.773074961754207\n",
            "-----------------------\n"
          ]
        },
        {
          "output_type": "stream",
          "name": "stderr",
          "text": [
            "[nltk_data] Downloading package punkt to /root/nltk_data...\n",
            "[nltk_data]   Package punkt is already up-to-date!\n",
            "[nltk_data] Downloading package averaged_perceptron_tagger to\n",
            "[nltk_data]     /root/nltk_data...\n",
            "[nltk_data]   Package averaged_perceptron_tagger is already up-to-\n",
            "[nltk_data]       date!\n",
            "[nltk_data] Downloading package cmudict to /root/nltk_data...\n",
            "[nltk_data]   Package cmudict is already up-to-date!\n"
          ]
        },
        {
          "output_type": "stream",
          "name": "stdout",
          "text": [
            "Metrics for URL: https://insights.blackcoffer.com/marketing-drives-results-with-a-focus-on-problems/\n",
            "POSITIVE SCORE: 0.07345173432437582\n",
            "NEGATIVE SCORE: -0.07345173432437582\n",
            "POLARITY SCORE: 0.07345173432437582\n",
            "SUBJECTIVITY SCORE: 0.434461460970895\n",
            "AVG SENTENCE LENGTH: 26.779661016949152\n",
            "PERCENTAGE OF COMPLEX WORDS: 17.27848101265823\n",
            "FOG INDEX: 17.623256811842953\n",
            "AVG NUMBER OF WORDS PER SENTENCE: 26.779661016949152\n",
            "COMPLEX WORD COUNT: 273\n",
            "WORD COUNT: 1580\n",
            "SYLLABLE PER WORD: 1.730379746835443\n",
            "PERSONAL PRONOUNS: 34\n",
            "AVG WORD LENGTH: 4.639240506329114\n",
            "-----------------------\n"
          ]
        },
        {
          "output_type": "stream",
          "name": "stderr",
          "text": [
            "[nltk_data] Downloading package punkt to /root/nltk_data...\n",
            "[nltk_data]   Package punkt is already up-to-date!\n",
            "[nltk_data] Downloading package averaged_perceptron_tagger to\n",
            "[nltk_data]     /root/nltk_data...\n",
            "[nltk_data]   Package averaged_perceptron_tagger is already up-to-\n",
            "[nltk_data]       date!\n",
            "[nltk_data] Downloading package cmudict to /root/nltk_data...\n",
            "[nltk_data]   Package cmudict is already up-to-date!\n"
          ]
        },
        {
          "output_type": "stream",
          "name": "stdout",
          "text": [
            "Metrics for URL: https://insights.blackcoffer.com/continued-demand-for-sustainability/\n",
            "POSITIVE SCORE: 0.05165656565656566\n",
            "NEGATIVE SCORE: -0.05165656565656566\n",
            "POLARITY SCORE: 0.05165656565656566\n",
            "SUBJECTIVITY SCORE: 0.4337266785502079\n",
            "AVG SENTENCE LENGTH: 25.9375\n",
            "PERCENTAGE OF COMPLEX WORDS: 26.184738955823295\n",
            "FOG INDEX: 20.84889558232932\n",
            "AVG NUMBER OF WORDS PER SENTENCE: 25.9375\n",
            "COMPLEX WORD COUNT: 326\n",
            "WORD COUNT: 1245\n",
            "SYLLABLE PER WORD: 1.878714859437751\n",
            "PERSONAL PRONOUNS: 11\n",
            "AVG WORD LENGTH: 5.240160642570281\n",
            "-----------------------\n"
          ]
        },
        {
          "output_type": "stream",
          "name": "stderr",
          "text": [
            "[nltk_data] Downloading package punkt to /root/nltk_data...\n",
            "[nltk_data]   Package punkt is already up-to-date!\n",
            "[nltk_data] Downloading package averaged_perceptron_tagger to\n",
            "[nltk_data]     /root/nltk_data...\n",
            "[nltk_data]   Package averaged_perceptron_tagger is already up-to-\n",
            "[nltk_data]       date!\n",
            "[nltk_data] Downloading package cmudict to /root/nltk_data...\n",
            "[nltk_data]   Package cmudict is already up-to-date!\n"
          ]
        },
        {
          "output_type": "stream",
          "name": "stdout",
          "text": [
            "Metrics for URL: https://insights.blackcoffer.com/coronavirus-disease-covid-19-effect-the-impact-and-role-of-mass-media-during-the-pandemic/\n",
            "POSITIVE SCORE: 0.06237426788897377\n",
            "NEGATIVE SCORE: -0.06237426788897377\n",
            "POLARITY SCORE: 0.06237426788897377\n",
            "SUBJECTIVITY SCORE: 0.3422332569391393\n",
            "AVG SENTENCE LENGTH: 28.066666666666666\n",
            "PERCENTAGE OF COMPLEX WORDS: 23.51543942992874\n",
            "FOG INDEX: 20.632842438638164\n",
            "AVG NUMBER OF WORDS PER SENTENCE: 28.066666666666666\n",
            "COMPLEX WORD COUNT: 99\n",
            "WORD COUNT: 421\n",
            "SYLLABLE PER WORD: 1.847980997624703\n",
            "PERSONAL PRONOUNS: 8\n",
            "AVG WORD LENGTH: 5.007125890736342\n",
            "-----------------------\n"
          ]
        },
        {
          "output_type": "stream",
          "name": "stderr",
          "text": [
            "[nltk_data] Downloading package punkt to /root/nltk_data...\n",
            "[nltk_data]   Package punkt is already up-to-date!\n",
            "[nltk_data] Downloading package averaged_perceptron_tagger to\n",
            "[nltk_data]     /root/nltk_data...\n",
            "[nltk_data]   Package averaged_perceptron_tagger is already up-to-\n",
            "[nltk_data]       date!\n",
            "[nltk_data] Downloading package cmudict to /root/nltk_data...\n",
            "[nltk_data]   Package cmudict is already up-to-date!\n"
          ]
        },
        {
          "output_type": "stream",
          "name": "stdout",
          "text": [
            "Metrics for URL: https://insights.blackcoffer.com/should-people-wear-fabric-gloves-seeking-evidence-regarding-the-differential-transfer-of-covid-19-or-coronaviruses-generally-between-surfaces/\n",
            "POSITIVE SCORE: 0.1766528925619835\n",
            "NEGATIVE SCORE: -0.1766528925619835\n",
            "POLARITY SCORE: 0.1766528925619835\n",
            "SUBJECTIVITY SCORE: 0.3664944903581267\n",
            "AVG SENTENCE LENGTH: 25.785714285714285\n",
            "PERCENTAGE OF COMPLEX WORDS: 8.587257617728532\n",
            "FOG INDEX: 13.749188761377127\n",
            "AVG NUMBER OF WORDS PER SENTENCE: 25.785714285714285\n",
            "COMPLEX WORD COUNT: 31\n",
            "WORD COUNT: 361\n",
            "SYLLABLE PER WORD: 1.4155124653739612\n",
            "PERSONAL PRONOUNS: 11\n",
            "AVG WORD LENGTH: 4.06371191135734\n",
            "-----------------------\n"
          ]
        },
        {
          "output_type": "stream",
          "name": "stderr",
          "text": [
            "[nltk_data] Downloading package punkt to /root/nltk_data...\n",
            "[nltk_data]   Package punkt is already up-to-date!\n",
            "[nltk_data] Downloading package averaged_perceptron_tagger to\n",
            "[nltk_data]     /root/nltk_data...\n",
            "[nltk_data]   Package averaged_perceptron_tagger is already up-to-\n",
            "[nltk_data]       date!\n",
            "[nltk_data] Downloading package cmudict to /root/nltk_data...\n",
            "[nltk_data]   Package cmudict is already up-to-date!\n"
          ]
        },
        {
          "output_type": "stream",
          "name": "stdout",
          "text": [
            "Metrics for URL: https://insights.blackcoffer.com/why-is-there-a-severe-immunological-and-inflammatory-explosion-in-those-affected-by-sarms-covid-19/\n",
            "POSITIVE SCORE: 0.015525793650793651\n",
            "NEGATIVE SCORE: -0.015525793650793651\n",
            "POLARITY SCORE: 0.015525793650793651\n",
            "SUBJECTIVITY SCORE: 0.48556547619047624\n",
            "AVG SENTENCE LENGTH: 22.0\n",
            "PERCENTAGE OF COMPLEX WORDS: 15.227272727272728\n",
            "FOG INDEX: 14.89090909090909\n",
            "AVG NUMBER OF WORDS PER SENTENCE: 22.0\n",
            "COMPLEX WORD COUNT: 67\n",
            "WORD COUNT: 440\n",
            "SYLLABLE PER WORD: 1.65\n",
            "PERSONAL PRONOUNS: 9\n",
            "AVG WORD LENGTH: 4.340909090909091\n",
            "-----------------------\n"
          ]
        },
        {
          "output_type": "stream",
          "name": "stderr",
          "text": [
            "[nltk_data] Downloading package punkt to /root/nltk_data...\n",
            "[nltk_data]   Package punkt is already up-to-date!\n",
            "[nltk_data] Downloading package averaged_perceptron_tagger to\n",
            "[nltk_data]     /root/nltk_data...\n",
            "[nltk_data]   Package averaged_perceptron_tagger is already up-to-\n",
            "[nltk_data]       date!\n",
            "[nltk_data] Downloading package cmudict to /root/nltk_data...\n",
            "[nltk_data]   Package cmudict is already up-to-date!\n"
          ]
        },
        {
          "output_type": "stream",
          "name": "stdout",
          "text": [
            "Metrics for URL: https://insights.blackcoffer.com/what-do-you-think-is-the-lesson-or-lessons-to-be-learned-with-covid-19/\n",
            "POSITIVE SCORE: -0.0011877517736892708\n",
            "NEGATIVE SCORE: 0.0011877517736892708\n",
            "POLARITY SCORE: -0.0011877517736892708\n",
            "SUBJECTIVITY SCORE: 0.3402191558441558\n",
            "AVG SENTENCE LENGTH: 37.42857142857143\n",
            "PERCENTAGE OF COMPLEX WORDS: 14.50381679389313\n",
            "FOG INDEX: 20.772955288985827\n",
            "AVG NUMBER OF WORDS PER SENTENCE: 37.42857142857143\n",
            "COMPLEX WORD COUNT: 38\n",
            "WORD COUNT: 262\n",
            "SYLLABLE PER WORD: 1.618320610687023\n",
            "PERSONAL PRONOUNS: 11\n",
            "AVG WORD LENGTH: 4.309160305343512\n",
            "-----------------------\n"
          ]
        },
        {
          "output_type": "stream",
          "name": "stderr",
          "text": [
            "[nltk_data] Downloading package punkt to /root/nltk_data...\n",
            "[nltk_data]   Package punkt is already up-to-date!\n",
            "[nltk_data] Downloading package averaged_perceptron_tagger to\n",
            "[nltk_data]     /root/nltk_data...\n",
            "[nltk_data]   Package averaged_perceptron_tagger is already up-to-\n",
            "[nltk_data]       date!\n",
            "[nltk_data] Downloading package cmudict to /root/nltk_data...\n",
            "[nltk_data]   Package cmudict is already up-to-date!\n"
          ]
        },
        {
          "output_type": "stream",
          "name": "stdout",
          "text": [
            "Metrics for URL: https://insights.blackcoffer.com/coronavirus-the-unexpected-challenge-for-the-european-union/\n",
            "POSITIVE SCORE: -0.012500000000000002\n",
            "NEGATIVE SCORE: 0.012500000000000002\n",
            "POLARITY SCORE: -0.012500000000000002\n",
            "SUBJECTIVITY SCORE: 0.38345238095238093\n",
            "AVG SENTENCE LENGTH: 20.357142857142858\n",
            "PERCENTAGE OF COMPLEX WORDS: 18.947368421052634\n",
            "FOG INDEX: 15.721804511278197\n",
            "AVG NUMBER OF WORDS PER SENTENCE: 20.357142857142858\n",
            "COMPLEX WORD COUNT: 54\n",
            "WORD COUNT: 285\n",
            "SYLLABLE PER WORD: 1.6456140350877193\n",
            "PERSONAL PRONOUNS: 10\n",
            "AVG WORD LENGTH: 4.491228070175438\n",
            "-----------------------\n"
          ]
        },
        {
          "output_type": "stream",
          "name": "stderr",
          "text": [
            "[nltk_data] Downloading package punkt to /root/nltk_data...\n",
            "[nltk_data]   Package punkt is already up-to-date!\n",
            "[nltk_data] Downloading package averaged_perceptron_tagger to\n",
            "[nltk_data]     /root/nltk_data...\n",
            "[nltk_data]   Package averaged_perceptron_tagger is already up-to-\n",
            "[nltk_data]       date!\n",
            "[nltk_data] Downloading package cmudict to /root/nltk_data...\n",
            "[nltk_data]   Package cmudict is already up-to-date!\n"
          ]
        },
        {
          "output_type": "stream",
          "name": "stdout",
          "text": [
            "Metrics for URL: https://insights.blackcoffer.com/industrial-revolution-4-0-pros-and-cons/\n",
            "POSITIVE SCORE: 0.13832551707551707\n",
            "NEGATIVE SCORE: -0.13832551707551707\n",
            "POLARITY SCORE: 0.13832551707551707\n",
            "SUBJECTIVITY SCORE: 0.42213443963443964\n",
            "AVG SENTENCE LENGTH: 20.529411764705884\n",
            "PERCENTAGE OF COMPLEX WORDS: 24.785100286532952\n",
            "FOG INDEX: 18.125804820495535\n",
            "AVG NUMBER OF WORDS PER SENTENCE: 20.529411764705884\n",
            "COMPLEX WORD COUNT: 173\n",
            "WORD COUNT: 698\n",
            "SYLLABLE PER WORD: 1.8581661891117478\n",
            "PERSONAL PRONOUNS: 5\n",
            "AVG WORD LENGTH: 4.991404011461318\n",
            "-----------------------\n"
          ]
        },
        {
          "output_type": "stream",
          "name": "stderr",
          "text": [
            "[nltk_data] Downloading package punkt to /root/nltk_data...\n",
            "[nltk_data]   Package punkt is already up-to-date!\n",
            "[nltk_data] Downloading package averaged_perceptron_tagger to\n",
            "[nltk_data]     /root/nltk_data...\n",
            "[nltk_data]   Package averaged_perceptron_tagger is already up-to-\n",
            "[nltk_data]       date!\n",
            "[nltk_data] Downloading package cmudict to /root/nltk_data...\n",
            "[nltk_data]   Package cmudict is already up-to-date!\n"
          ]
        },
        {
          "output_type": "stream",
          "name": "stdout",
          "text": [
            "Metrics for URL: https://insights.blackcoffer.com/impact-of-covid-19-coronavirus-on-the-indian-economy/\n",
            "POSITIVE SCORE: 0.04182050892577209\n",
            "NEGATIVE SCORE: -0.04182050892577209\n",
            "POLARITY SCORE: 0.04182050892577209\n",
            "SUBJECTIVITY SCORE: 0.4371575062364538\n",
            "AVG SENTENCE LENGTH: 27.357142857142858\n",
            "PERCENTAGE OF COMPLEX WORDS: 18.102697998259355\n",
            "FOG INDEX: 18.183936342160887\n",
            "AVG NUMBER OF WORDS PER SENTENCE: 27.357142857142858\n",
            "COMPLEX WORD COUNT: 208\n",
            "WORD COUNT: 1149\n",
            "SYLLABLE PER WORD: 1.6832027850304612\n",
            "PERSONAL PRONOUNS: 7\n",
            "AVG WORD LENGTH: 4.618798955613577\n",
            "-----------------------\n"
          ]
        },
        {
          "output_type": "stream",
          "name": "stderr",
          "text": [
            "[nltk_data] Downloading package punkt to /root/nltk_data...\n",
            "[nltk_data]   Package punkt is already up-to-date!\n",
            "[nltk_data] Downloading package averaged_perceptron_tagger to\n",
            "[nltk_data]     /root/nltk_data...\n",
            "[nltk_data]   Package averaged_perceptron_tagger is already up-to-\n",
            "[nltk_data]       date!\n",
            "[nltk_data] Downloading package cmudict to /root/nltk_data...\n",
            "[nltk_data]   Package cmudict is already up-to-date!\n"
          ]
        },
        {
          "output_type": "stream",
          "name": "stdout",
          "text": [
            "Metrics for URL: https://insights.blackcoffer.com/impact-of-covid-19-coronavirus-on-the-indian-economy-2/\n",
            "POSITIVE SCORE: 0.0387892454767455\n",
            "NEGATIVE SCORE: -0.0387892454767455\n",
            "POLARITY SCORE: 0.0387892454767455\n",
            "SUBJECTIVITY SCORE: 0.420449016261516\n",
            "AVG SENTENCE LENGTH: 28.487179487179485\n",
            "PERCENTAGE OF COMPLEX WORDS: 15.031503150315032\n",
            "FOG INDEX: 17.40747305499781\n",
            "AVG NUMBER OF WORDS PER SENTENCE: 28.487179487179485\n",
            "COMPLEX WORD COUNT: 167\n",
            "WORD COUNT: 1111\n",
            "SYLLABLE PER WORD: 1.576057605760576\n",
            "PERSONAL PRONOUNS: 13\n",
            "AVG WORD LENGTH: 4.401440144014401\n",
            "-----------------------\n"
          ]
        },
        {
          "output_type": "stream",
          "name": "stderr",
          "text": [
            "[nltk_data] Downloading package punkt to /root/nltk_data...\n",
            "[nltk_data]   Package punkt is already up-to-date!\n",
            "[nltk_data] Downloading package averaged_perceptron_tagger to\n",
            "[nltk_data]     /root/nltk_data...\n",
            "[nltk_data]   Package averaged_perceptron_tagger is already up-to-\n",
            "[nltk_data]       date!\n",
            "[nltk_data] Downloading package cmudict to /root/nltk_data...\n",
            "[nltk_data]   Package cmudict is already up-to-date!\n"
          ]
        },
        {
          "output_type": "stream",
          "name": "stdout",
          "text": [
            "Metrics for URL: https://insights.blackcoffer.com/impact-of-covid-19coronavirus-on-the-indian-economy/\n",
            "POSITIVE SCORE: 0.10831318515646872\n",
            "NEGATIVE SCORE: -0.10831318515646872\n",
            "POLARITY SCORE: 0.10831318515646872\n",
            "SUBJECTIVITY SCORE: 0.4009989952004877\n",
            "AVG SENTENCE LENGTH: 26.866666666666667\n",
            "PERCENTAGE OF COMPLEX WORDS: 21.439205955334987\n",
            "FOG INDEX: 19.322349048800664\n",
            "AVG NUMBER OF WORDS PER SENTENCE: 26.866666666666667\n",
            "COMPLEX WORD COUNT: 432\n",
            "WORD COUNT: 2015\n",
            "SYLLABLE PER WORD: 1.7444168734491314\n",
            "PERSONAL PRONOUNS: 13\n",
            "AVG WORD LENGTH: 4.714143920595533\n",
            "-----------------------\n"
          ]
        },
        {
          "output_type": "stream",
          "name": "stderr",
          "text": [
            "[nltk_data] Downloading package punkt to /root/nltk_data...\n",
            "[nltk_data]   Package punkt is already up-to-date!\n",
            "[nltk_data] Downloading package averaged_perceptron_tagger to\n",
            "[nltk_data]     /root/nltk_data...\n",
            "[nltk_data]   Package averaged_perceptron_tagger is already up-to-\n",
            "[nltk_data]       date!\n",
            "[nltk_data] Downloading package cmudict to /root/nltk_data...\n",
            "[nltk_data]   Package cmudict is already up-to-date!\n"
          ]
        },
        {
          "output_type": "stream",
          "name": "stdout",
          "text": [
            "Metrics for URL: https://insights.blackcoffer.com/impact-of-covid-19-coronavirus-on-the-global-economy/\n",
            "POSITIVE SCORE: 0.14017096185064937\n",
            "NEGATIVE SCORE: -0.14017096185064937\n",
            "POLARITY SCORE: 0.14017096185064937\n",
            "SUBJECTIVITY SCORE: 0.4080661525974026\n",
            "AVG SENTENCE LENGTH: 19.285714285714285\n",
            "PERCENTAGE OF COMPLEX WORDS: 17.77777777777778\n",
            "FOG INDEX: 14.825396825396826\n",
            "AVG NUMBER OF WORDS PER SENTENCE: 19.285714285714285\n",
            "COMPLEX WORD COUNT: 120\n",
            "WORD COUNT: 675\n",
            "SYLLABLE PER WORD: 1.6844444444444444\n",
            "PERSONAL PRONOUNS: 4\n",
            "AVG WORD LENGTH: 4.72\n",
            "-----------------------\n"
          ]
        },
        {
          "output_type": "stream",
          "name": "stderr",
          "text": [
            "[nltk_data] Downloading package punkt to /root/nltk_data...\n",
            "[nltk_data]   Package punkt is already up-to-date!\n",
            "[nltk_data] Downloading package averaged_perceptron_tagger to\n",
            "[nltk_data]     /root/nltk_data...\n",
            "[nltk_data]   Package averaged_perceptron_tagger is already up-to-\n",
            "[nltk_data]       date!\n",
            "[nltk_data] Downloading package cmudict to /root/nltk_data...\n",
            "[nltk_data]   Package cmudict is already up-to-date!\n"
          ]
        },
        {
          "output_type": "stream",
          "name": "stdout",
          "text": [
            "Error processing URL: https://insights.blackcoffer.com/ensuring-growth-through-insurance-technology/\n",
            "Article `download()` failed with 404 Client Error: Not Found for url: https://insights.blackcoffer.com/ensuring-growth-through-insurance-technology/ on URL https://insights.blackcoffer.com/ensuring-growth-through-insurance-technology/\n",
            "-----------------------\n"
          ]
        },
        {
          "output_type": "stream",
          "name": "stderr",
          "text": [
            "[nltk_data] Downloading package punkt to /root/nltk_data...\n",
            "[nltk_data]   Package punkt is already up-to-date!\n",
            "[nltk_data] Downloading package averaged_perceptron_tagger to\n",
            "[nltk_data]     /root/nltk_data...\n",
            "[nltk_data]   Package averaged_perceptron_tagger is already up-to-\n",
            "[nltk_data]       date!\n",
            "[nltk_data] Downloading package cmudict to /root/nltk_data...\n",
            "[nltk_data]   Package cmudict is already up-to-date!\n"
          ]
        },
        {
          "output_type": "stream",
          "name": "stdout",
          "text": [
            "Metrics for URL: https://insights.blackcoffer.com/blockchain-in-fintech/\n",
            "POSITIVE SCORE: 0.10151470588235298\n",
            "NEGATIVE SCORE: -0.10151470588235298\n",
            "POLARITY SCORE: 0.10151470588235298\n",
            "SUBJECTIVITY SCORE: 0.4611136788048552\n",
            "AVG SENTENCE LENGTH: 27.83783783783784\n",
            "PERCENTAGE OF COMPLEX WORDS: 18.640776699029125\n",
            "FOG INDEX: 18.591445814746788\n",
            "AVG NUMBER OF WORDS PER SENTENCE: 27.83783783783784\n",
            "COMPLEX WORD COUNT: 192\n",
            "WORD COUNT: 1030\n",
            "SYLLABLE PER WORD: 1.725242718446602\n",
            "PERSONAL PRONOUNS: 15\n",
            "AVG WORD LENGTH: 4.807766990291262\n",
            "-----------------------\n"
          ]
        },
        {
          "output_type": "stream",
          "name": "stderr",
          "text": [
            "[nltk_data] Downloading package punkt to /root/nltk_data...\n",
            "[nltk_data]   Package punkt is already up-to-date!\n",
            "[nltk_data] Downloading package averaged_perceptron_tagger to\n",
            "[nltk_data]     /root/nltk_data...\n",
            "[nltk_data]   Package averaged_perceptron_tagger is already up-to-\n",
            "[nltk_data]       date!\n",
            "[nltk_data] Downloading package cmudict to /root/nltk_data...\n",
            "[nltk_data]   Package cmudict is already up-to-date!\n"
          ]
        },
        {
          "output_type": "stream",
          "name": "stdout",
          "text": [
            "Metrics for URL: https://insights.blackcoffer.com/blockchain-for-payments/\n",
            "POSITIVE SCORE: 0.03548801080715974\n",
            "NEGATIVE SCORE: -0.03548801080715974\n",
            "POLARITY SCORE: 0.03548801080715974\n",
            "SUBJECTIVITY SCORE: 0.4028140830800405\n",
            "AVG SENTENCE LENGTH: 20.6734693877551\n",
            "PERCENTAGE OF COMPLEX WORDS: 21.42152023692004\n",
            "FOG INDEX: 16.837995849870055\n",
            "AVG NUMBER OF WORDS PER SENTENCE: 20.6734693877551\n",
            "COMPLEX WORD COUNT: 217\n",
            "WORD COUNT: 1013\n",
            "SYLLABLE PER WORD: 1.826258637709773\n",
            "PERSONAL PRONOUNS: 19\n",
            "AVG WORD LENGTH: 4.950641658440277\n",
            "-----------------------\n"
          ]
        },
        {
          "output_type": "stream",
          "name": "stderr",
          "text": [
            "[nltk_data] Downloading package punkt to /root/nltk_data...\n",
            "[nltk_data]   Package punkt is already up-to-date!\n",
            "[nltk_data] Downloading package averaged_perceptron_tagger to\n",
            "[nltk_data]     /root/nltk_data...\n",
            "[nltk_data]   Package averaged_perceptron_tagger is already up-to-\n",
            "[nltk_data]       date!\n",
            "[nltk_data] Downloading package cmudict to /root/nltk_data...\n",
            "[nltk_data]   Package cmudict is already up-to-date!\n"
          ]
        },
        {
          "output_type": "stream",
          "name": "stdout",
          "text": [
            "Metrics for URL: https://insights.blackcoffer.com/the-future-of-investing/\n",
            "POSITIVE SCORE: 0.07650381730168965\n",
            "NEGATIVE SCORE: -0.07650381730168965\n",
            "POLARITY SCORE: 0.07650381730168965\n",
            "SUBJECTIVITY SCORE: 0.3917129541065712\n",
            "AVG SENTENCE LENGTH: 25.753623188405797\n",
            "PERCENTAGE OF COMPLEX WORDS: 17.445132245357346\n",
            "FOG INDEX: 17.279502173505257\n",
            "AVG NUMBER OF WORDS PER SENTENCE: 25.753623188405797\n",
            "COMPLEX WORD COUNT: 310\n",
            "WORD COUNT: 1777\n",
            "SYLLABLE PER WORD: 1.678671918964547\n",
            "PERSONAL PRONOUNS: 45\n",
            "AVG WORD LENGTH: 4.633089476646033\n",
            "-----------------------\n"
          ]
        },
        {
          "output_type": "stream",
          "name": "stderr",
          "text": [
            "[nltk_data] Downloading package punkt to /root/nltk_data...\n",
            "[nltk_data]   Package punkt is already up-to-date!\n",
            "[nltk_data] Downloading package averaged_perceptron_tagger to\n",
            "[nltk_data]     /root/nltk_data...\n",
            "[nltk_data]   Package averaged_perceptron_tagger is already up-to-\n",
            "[nltk_data]       date!\n",
            "[nltk_data] Downloading package cmudict to /root/nltk_data...\n",
            "[nltk_data]   Package cmudict is already up-to-date!\n"
          ]
        },
        {
          "output_type": "stream",
          "name": "stdout",
          "text": [
            "Metrics for URL: https://insights.blackcoffer.com/big-data-analytics-in-healthcare/\n",
            "POSITIVE SCORE: 0.04031915615248948\n",
            "NEGATIVE SCORE: -0.04031915615248948\n",
            "POLARITY SCORE: 0.04031915615248948\n",
            "SUBJECTIVITY SCORE: 0.4178918944303562\n",
            "AVG SENTENCE LENGTH: 19.636363636363637\n",
            "PERCENTAGE OF COMPLEX WORDS: 19.984567901234566\n",
            "FOG INDEX: 15.848372615039281\n",
            "AVG NUMBER OF WORDS PER SENTENCE: 19.636363636363637\n",
            "COMPLEX WORD COUNT: 259\n",
            "WORD COUNT: 1296\n",
            "SYLLABLE PER WORD: 1.6967592592592593\n",
            "PERSONAL PRONOUNS: 6\n",
            "AVG WORD LENGTH: 4.658179012345679\n",
            "-----------------------\n"
          ]
        },
        {
          "output_type": "stream",
          "name": "stderr",
          "text": [
            "[nltk_data] Downloading package punkt to /root/nltk_data...\n",
            "[nltk_data]   Package punkt is already up-to-date!\n",
            "[nltk_data] Downloading package averaged_perceptron_tagger to\n",
            "[nltk_data]     /root/nltk_data...\n",
            "[nltk_data]   Package averaged_perceptron_tagger is already up-to-\n",
            "[nltk_data]       date!\n",
            "[nltk_data] Downloading package cmudict to /root/nltk_data...\n",
            "[nltk_data]   Package cmudict is already up-to-date!\n"
          ]
        },
        {
          "output_type": "stream",
          "name": "stdout",
          "text": [
            "Metrics for URL: https://insights.blackcoffer.com/business-analytics-in-the-healthcare-industry/\n",
            "POSITIVE SCORE: 0.20874813710879284\n",
            "NEGATIVE SCORE: -0.20874813710879284\n",
            "POLARITY SCORE: 0.20874813710879284\n",
            "SUBJECTIVITY SCORE: 0.546448087431694\n",
            "AVG SENTENCE LENGTH: 26.64516129032258\n",
            "PERCENTAGE OF COMPLEX WORDS: 23.728813559322035\n",
            "FOG INDEX: 20.149589939857847\n",
            "AVG NUMBER OF WORDS PER SENTENCE: 26.64516129032258\n",
            "COMPLEX WORD COUNT: 196\n",
            "WORD COUNT: 826\n",
            "SYLLABLE PER WORD: 1.824455205811138\n",
            "PERSONAL PRONOUNS: 17\n",
            "AVG WORD LENGTH: 5.237288135593221\n",
            "-----------------------\n"
          ]
        },
        {
          "output_type": "stream",
          "name": "stderr",
          "text": [
            "[nltk_data] Downloading package punkt to /root/nltk_data...\n",
            "[nltk_data]   Package punkt is already up-to-date!\n",
            "[nltk_data] Downloading package averaged_perceptron_tagger to\n",
            "[nltk_data]     /root/nltk_data...\n",
            "[nltk_data]   Package averaged_perceptron_tagger is already up-to-\n",
            "[nltk_data]       date!\n",
            "[nltk_data] Downloading package cmudict to /root/nltk_data...\n",
            "[nltk_data]   Package cmudict is already up-to-date!\n"
          ]
        },
        {
          "output_type": "stream",
          "name": "stdout",
          "text": [
            "Metrics for URL: https://insights.blackcoffer.com/challenges-and-opportunities-of-big-data-in-healthcare/\n",
            "POSITIVE SCORE: 0.12496290336998302\n",
            "NEGATIVE SCORE: -0.12496290336998302\n",
            "POLARITY SCORE: 0.12496290336998302\n",
            "SUBJECTIVITY SCORE: 0.4590204191089148\n",
            "AVG SENTENCE LENGTH: 17.424242424242426\n",
            "PERCENTAGE OF COMPLEX WORDS: 17.91304347826087\n",
            "FOG INDEX: 14.13491436100132\n",
            "AVG NUMBER OF WORDS PER SENTENCE: 17.424242424242426\n",
            "COMPLEX WORD COUNT: 206\n",
            "WORD COUNT: 1150\n",
            "SYLLABLE PER WORD: 1.671304347826087\n",
            "PERSONAL PRONOUNS: 14\n",
            "AVG WORD LENGTH: 4.67304347826087\n",
            "-----------------------\n"
          ]
        }
      ]
    }
  ]
}